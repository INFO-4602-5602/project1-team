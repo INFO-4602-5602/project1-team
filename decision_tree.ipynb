{
 "cells": [
  {
   "cell_type": "code",
   "execution_count": 29,
   "metadata": {
    "collapsed": true
   },
   "outputs": [],
   "source": [
    "import pandas as pd\n",
    "import numpy as np\n",
    "import matplotlib.pyplot as plt\n",
    "%matplotlib inline"
   ]
  },
  {
   "cell_type": "code",
   "execution_count": 30,
   "metadata": {
    "collapsed": true
   },
   "outputs": [],
   "source": [
    "accts = pd.read_csv(\"ZayoHackathonData_Accounts.csv\")\n",
    "cpqs = pd.read_csv(\"ZayoHackathonData_CPQs.csv\")\n",
    "opps = pd.read_csv(\"ZayoHackathonData_Opportunities.csv\")\n",
    "svcs = pd.read_csv(\"ZayoHackathonData_Services.csv\")\n",
    "sts = pd.read_csv(\"ZayoHackathonData_Sites.csv\")"
   ]
  },
  {
   "cell_type": "code",
   "execution_count": 58,
   "metadata": {
    "collapsed": false
   },
   "outputs": [
    {
     "data": {
      "text/plain": [
       "array(['1 - Working', '2 - Best Case', '3 - Committed', '4 - Closed',\n",
       "       '5 - Accepted', 'Closed - Lost'], dtype=object)"
      ]
     },
     "execution_count": 58,
     "metadata": {},
     "output_type": "execute_result"
    }
   ],
   "source": [
    "#opps.head()\n",
    "np.unique(opps['StageName'])"
   ]
  },
  {
   "cell_type": "code",
   "execution_count": 32,
   "metadata": {
    "collapsed": false
   },
   "outputs": [
    {
     "name": "stderr",
     "output_type": "stream",
     "text": [
      "/usr/local/lib/python2.7/site-packages/ipykernel/__main__.py:4: SettingWithCopyWarning: \n",
      "A value is trying to be set on a copy of a slice from a DataFrame.\n",
      "Try using .loc[row_indexer,col_indexer] = value instead\n",
      "\n",
      "See the caveats in the documentation: http://pandas.pydata.org/pandas-docs/stable/indexing.html#indexing-view-versus-copy\n"
     ]
    }
   ],
   "source": [
    "# Add a new column corresponding to whether or not the opportunity is close to being closed\n",
    "to_predict = opps[(opps[\"StageName\"] == \"1 - Working\") | (opps['StageName'] ==\" 2 - Best Case\")]\n",
    "opp = opps[(opps[\"StageName\"] == \"3 - Committed\") | (opps['StageName'] == \"4 - Closed\") | (opps['StageName'] == \"5 - Accepted\") | (opps['StageName'] == \"Closed - Lost\")]\n",
    "opp['IsCommitted'] = [row['StageName'] in [\"3 - Committed\", \"4 - Closed\", \"5 - Accepted\"] for i, row in opp.iterrows()]"
   ]
  },
  {
   "cell_type": "code",
   "execution_count": 33,
   "metadata": {
    "collapsed": false
   },
   "outputs": [
    {
     "data": {
      "text/plain": [
       "Index([u'﻿Opportunity ID', u'Account ID', u'StageName', u'IsClosed', u'IsWon',\n",
       "       u'CreatedDate', u'Term in Months', u'Service', u'Opportunity Type',\n",
       "       u'Product Group', u'Building ID', u'Market', u'Street Address', u'City',\n",
       "       u'State', u'Postal Code', u'Network Proximity',\n",
       "       u'On Zayo Network Status', u'IsCommitted'],\n",
       "      dtype='object')"
      ]
     },
     "execution_count": 33,
     "metadata": {},
     "output_type": "execute_result"
    }
   ],
   "source": [
    "opp.columns"
   ]
  },
  {
   "cell_type": "code",
   "execution_count": 34,
   "metadata": {
    "collapsed": false
   },
   "outputs": [
    {
     "data": {
      "text/plain": [
       "Index([u'﻿Opportunity ID', u'Account ID', u'StageName', u'IsClosed', u'IsWon',\n",
       "       u'CreatedDate', u'Term in Months', u'Service', u'Opportunity Type',\n",
       "       u'Product Group', u'Building ID', u'Market', u'Street Address', u'City',\n",
       "       u'State', u'Postal Code', u'Network Proximity',\n",
       "       u'On Zayo Network Status', u'IsCommitted', u'﻿Account ID', u'Industry',\n",
       "       u'Vertical', u' Total BRR ', u' AnnualRevenue ', u'NumberOfEmployees',\n",
       "       u' DandB Revenue ', u'DandB Total Employees'],\n",
       "      dtype='object')"
      ]
     },
     "execution_count": 34,
     "metadata": {},
     "output_type": "execute_result"
    }
   ],
   "source": [
    "opp = opp.merge(accts, left_on = opp.columns[1], right_on = accts.columns[0], how = 'left', suffixes = ['_opp', '_accts'])\n",
    "opp.columns"
   ]
  },
  {
   "cell_type": "code",
   "execution_count": 35,
   "metadata": {
    "collapsed": false
   },
   "outputs": [
    {
     "data": {
      "text/plain": [
       "Index([u'﻿Opportunity ID', u'Account ID', u'StageName', u'IsClosed', u'IsWon',\n",
       "       u'CreatedDate_opp', u'Term in Months', u'Service', u'Opportunity Type',\n",
       "       u'Product Group_opp', u'Building ID_opp', u'Market_opp',\n",
       "       u'Street Address_opp', u'City_opp', u'State_opp', u'Postal Code_opp',\n",
       "       u'Network Proximity_opp', u'On Zayo Network Status_opp', u'IsCommitted',\n",
       "       u'﻿Account ID', u'Industry', u'Vertical', u' Total BRR ',\n",
       "       u' AnnualRevenue ', u'NumberOfEmployees', u' DandB Revenue ',\n",
       "       u'DandB Total Employees', u'﻿CPQ ID', u'CreatedDate_cpqs',\n",
       "       u'Product Group_cpqs', u' X36 MRC List ', u' X36 NRR List ',\n",
       "       u' X36 NPV List ', u'Building ID_cpqs', u'Market_cpqs',\n",
       "       u'Street Address_cpqs', u'City_cpqs', u'State_cpqs',\n",
       "       u'Postal Code_cpqs', u'Network Proximity_cpqs',\n",
       "       u'On Zayo Network Status_cpqs'],\n",
       "      dtype='object')"
      ]
     },
     "execution_count": 35,
     "metadata": {},
     "output_type": "execute_result"
    }
   ],
   "source": [
    "opp = opp.merge(cpqs, left_on = opp.columns[1], right_on = cpqs.columns[1], how = 'left', suffixes = ['_opp', '_cpqs'])\n",
    "opp.columns"
   ]
  },
  {
   "cell_type": "code",
   "execution_count": 8,
   "metadata": {
    "collapsed": false
   },
   "outputs": [],
   "source": [
    "#opp = opp.merge(sts, left_on = opp.columns[1], right_on = sts.columns[1], how = 'left')\n",
    "#opp.columns"
   ]
  },
  {
   "cell_type": "markdown",
   "metadata": {},
   "source": [
    "## Data Preprocessing"
   ]
  },
  {
   "cell_type": "code",
   "execution_count": 37,
   "metadata": {
    "collapsed": false
   },
   "outputs": [],
   "source": [
    "opp_filtered = opp.drop([cpqs.columns[0], '﻿Opportunity ID', 'Account ID', '﻿Account ID', 'StageName', 'IsClosed', 'IsWon', 'Building ID_opp', 'Building ID_cpqs', 'Street Address_opp', 'Street Address_cpqs'], axis=1)"
   ]
  },
  {
   "cell_type": "code",
   "execution_count": 38,
   "metadata": {
    "collapsed": false
   },
   "outputs": [
    {
     "data": {
      "text/plain": [
       "Index([u'CreatedDate_opp', u'Term in Months', u'Service', u'Opportunity Type',\n",
       "       u'Product Group_opp', u'Market_opp', u'City_opp', u'State_opp',\n",
       "       u'Postal Code_opp', u'Network Proximity_opp',\n",
       "       u'On Zayo Network Status_opp', u'IsCommitted', u'Industry', u'Vertical',\n",
       "       u' Total BRR ', u' AnnualRevenue ', u'NumberOfEmployees',\n",
       "       u' DandB Revenue ', u'DandB Total Employees', u'CreatedDate_cpqs',\n",
       "       u'Product Group_cpqs', u' X36 MRC List ', u' X36 NRR List ',\n",
       "       u' X36 NPV List ', u'Market_cpqs', u'City_cpqs', u'State_cpqs',\n",
       "       u'Postal Code_cpqs', u'Network Proximity_cpqs',\n",
       "       u'On Zayo Network Status_cpqs'],\n",
       "      dtype='object')"
      ]
     },
     "execution_count": 38,
     "metadata": {},
     "output_type": "execute_result"
    }
   ],
   "source": [
    "opp_filtered.columns"
   ]
  },
  {
   "cell_type": "code",
   "execution_count": 41,
   "metadata": {
    "collapsed": false
   },
   "outputs": [
    {
     "name": "stderr",
     "output_type": "stream",
     "text": [
      "/usr/local/lib/python2.7/site-packages/ipykernel/__main__.py:2: FutureWarning: using '-' to provide set differences with Indexes is deprecated, use .difference()\n",
      "  from ipykernel import kernelapp as app\n"
     ]
    },
    {
     "data": {
      "text/html": [
       "<div>\n",
       "<table border=\"1\" class=\"dataframe\">\n",
       "  <thead>\n",
       "    <tr style=\"text-align: right;\">\n",
       "      <th></th>\n",
       "      <th>AnnualRevenue</th>\n",
       "      <th>DandB Revenue</th>\n",
       "      <th>Total BRR</th>\n",
       "      <th>X36 MRC List</th>\n",
       "      <th>X36 NPV List</th>\n",
       "      <th>X36 NRR List</th>\n",
       "      <th>City_cpqs</th>\n",
       "      <th>City_opp</th>\n",
       "      <th>CreatedDate_cpqs</th>\n",
       "      <th>CreatedDate_opp</th>\n",
       "      <th>...</th>\n",
       "      <th>Opportunity Type</th>\n",
       "      <th>Postal Code_cpqs</th>\n",
       "      <th>Postal Code_opp</th>\n",
       "      <th>Product Group_cpqs</th>\n",
       "      <th>Product Group_opp</th>\n",
       "      <th>Service</th>\n",
       "      <th>State_cpqs</th>\n",
       "      <th>State_opp</th>\n",
       "      <th>Term in Months</th>\n",
       "      <th>Vertical</th>\n",
       "    </tr>\n",
       "  </thead>\n",
       "  <tbody>\n",
       "    <tr>\n",
       "      <th>0</th>\n",
       "      <td>$-</td>\n",
       "      <td>$-</td>\n",
       "      <td>$1,334,080.00</td>\n",
       "      <td>$666.15</td>\n",
       "      <td>$11,560.17</td>\n",
       "      <td>$-</td>\n",
       "      <td>Atlanta</td>\n",
       "      <td>Atlanta</td>\n",
       "      <td>10/4/16</td>\n",
       "      <td>7/1/16</td>\n",
       "      <td>...</td>\n",
       "      <td>New Service</td>\n",
       "      <td>30303</td>\n",
       "      <td>30303</td>\n",
       "      <td>Ethernet</td>\n",
       "      <td>Ethernet</td>\n",
       "      <td>NaN</td>\n",
       "      <td>GA</td>\n",
       "      <td>GA</td>\n",
       "      <td>12.0</td>\n",
       "      <td>PTT</td>\n",
       "    </tr>\n",
       "    <tr>\n",
       "      <th>1</th>\n",
       "      <td>$-</td>\n",
       "      <td>$-</td>\n",
       "      <td>$1,334,080.00</td>\n",
       "      <td>$666.15</td>\n",
       "      <td>$11,560.17</td>\n",
       "      <td>$-</td>\n",
       "      <td>Atlanta</td>\n",
       "      <td>Atlanta</td>\n",
       "      <td>10/4/16</td>\n",
       "      <td>7/1/16</td>\n",
       "      <td>...</td>\n",
       "      <td>New Service</td>\n",
       "      <td>30339</td>\n",
       "      <td>30303</td>\n",
       "      <td>Ethernet</td>\n",
       "      <td>Ethernet</td>\n",
       "      <td>NaN</td>\n",
       "      <td>GA</td>\n",
       "      <td>GA</td>\n",
       "      <td>12.0</td>\n",
       "      <td>PTT</td>\n",
       "    </tr>\n",
       "    <tr>\n",
       "      <th>2</th>\n",
       "      <td>$-</td>\n",
       "      <td>$-</td>\n",
       "      <td>$1,334,080.00</td>\n",
       "      <td>$1,761.66</td>\n",
       "      <td>$12,843.38</td>\n",
       "      <td>$922.00</td>\n",
       "      <td>Atlanta</td>\n",
       "      <td>Atlanta</td>\n",
       "      <td>10/4/16</td>\n",
       "      <td>7/1/16</td>\n",
       "      <td>...</td>\n",
       "      <td>New Service</td>\n",
       "      <td>30339</td>\n",
       "      <td>30303</td>\n",
       "      <td>Ethernet</td>\n",
       "      <td>Ethernet</td>\n",
       "      <td>NaN</td>\n",
       "      <td>GA</td>\n",
       "      <td>GA</td>\n",
       "      <td>12.0</td>\n",
       "      <td>PTT</td>\n",
       "    </tr>\n",
       "    <tr>\n",
       "      <th>3</th>\n",
       "      <td>$-</td>\n",
       "      <td>$-</td>\n",
       "      <td>$1,334,080.00</td>\n",
       "      <td>$993.93</td>\n",
       "      <td>$16,611.38</td>\n",
       "      <td>$922.00</td>\n",
       "      <td>Alpharetta</td>\n",
       "      <td>Atlanta</td>\n",
       "      <td>10/4/16</td>\n",
       "      <td>7/1/16</td>\n",
       "      <td>...</td>\n",
       "      <td>New Service</td>\n",
       "      <td>30004</td>\n",
       "      <td>30303</td>\n",
       "      <td>Ethernet</td>\n",
       "      <td>Ethernet</td>\n",
       "      <td>NaN</td>\n",
       "      <td>GA</td>\n",
       "      <td>GA</td>\n",
       "      <td>12.0</td>\n",
       "      <td>PTT</td>\n",
       "    </tr>\n",
       "    <tr>\n",
       "      <th>4</th>\n",
       "      <td>$-</td>\n",
       "      <td>$-</td>\n",
       "      <td>$1,334,080.00</td>\n",
       "      <td>$993.93</td>\n",
       "      <td>$16,611.38</td>\n",
       "      <td>$922.00</td>\n",
       "      <td>Atlanta</td>\n",
       "      <td>Atlanta</td>\n",
       "      <td>10/4/16</td>\n",
       "      <td>7/1/16</td>\n",
       "      <td>...</td>\n",
       "      <td>New Service</td>\n",
       "      <td>30339</td>\n",
       "      <td>30303</td>\n",
       "      <td>Ethernet</td>\n",
       "      <td>Ethernet</td>\n",
       "      <td>NaN</td>\n",
       "      <td>GA</td>\n",
       "      <td>GA</td>\n",
       "      <td>12.0</td>\n",
       "      <td>PTT</td>\n",
       "    </tr>\n",
       "  </tbody>\n",
       "</table>\n",
       "<p>5 rows × 29 columns</p>\n",
       "</div>"
      ],
      "text/plain": [
       "   AnnualRevenue   DandB Revenue        Total BRR   X36 MRC List   \\\n",
       "0           $-              $-      $1,334,080.00        $666.15    \n",
       "1           $-              $-      $1,334,080.00        $666.15    \n",
       "2           $-              $-      $1,334,080.00      $1,761.66    \n",
       "3           $-              $-      $1,334,080.00        $993.93    \n",
       "4           $-              $-      $1,334,080.00        $993.93    \n",
       "\n",
       "   X36 NPV List   X36 NRR List    City_cpqs City_opp CreatedDate_cpqs  \\\n",
       "0    $11,560.17           $-        Atlanta  Atlanta          10/4/16   \n",
       "1    $11,560.17           $-        Atlanta  Atlanta          10/4/16   \n",
       "2    $12,843.38        $922.00      Atlanta  Atlanta          10/4/16   \n",
       "3    $16,611.38        $922.00   Alpharetta  Atlanta          10/4/16   \n",
       "4    $16,611.38        $922.00      Atlanta  Atlanta          10/4/16   \n",
       "\n",
       "  CreatedDate_opp   ...     Opportunity Type Postal Code_cpqs Postal Code_opp  \\\n",
       "0          7/1/16   ...          New Service            30303           30303   \n",
       "1          7/1/16   ...          New Service            30339           30303   \n",
       "2          7/1/16   ...          New Service            30339           30303   \n",
       "3          7/1/16   ...          New Service            30004           30303   \n",
       "4          7/1/16   ...          New Service            30339           30303   \n",
       "\n",
       "  Product Group_cpqs  Product Group_opp  Service  State_cpqs State_opp  \\\n",
       "0           Ethernet           Ethernet      NaN          GA        GA   \n",
       "1           Ethernet           Ethernet      NaN          GA        GA   \n",
       "2           Ethernet           Ethernet      NaN          GA        GA   \n",
       "3           Ethernet           Ethernet      NaN          GA        GA   \n",
       "4           Ethernet           Ethernet      NaN          GA        GA   \n",
       "\n",
       "  Term in Months Vertical  \n",
       "0           12.0      PTT  \n",
       "1           12.0      PTT  \n",
       "2           12.0      PTT  \n",
       "3           12.0      PTT  \n",
       "4           12.0      PTT  \n",
       "\n",
       "[5 rows x 29 columns]"
      ]
     },
     "execution_count": 41,
     "metadata": {},
     "output_type": "execute_result"
    }
   ],
   "source": [
    "#features = [u'CreatedDate_opp', u'Term in Months', u'Service', u'Opportunity Type', u'Product Group_opp', u'Market_opp', u'City_opp', u'State_opp', u'Postal Code_opp', u'Network Proximity_opp', u'On Zayo Network Status_opp', u'Industry', u'Vertical', u' Total BRR ', u' AnnualRevenue ', u'NumberOfEmployees', u' DandB Revenue ', u'DandB Total Employees', ]\n",
    "features = opp_filtered.columns - [u'IsCommitted']\n",
    "prediction = [u'IsCommitted']\n",
    "\n",
    "opp_filtered[features].head()"
   ]
  },
  {
   "cell_type": "code",
   "execution_count": 43,
   "metadata": {
    "collapsed": false
   },
   "outputs": [
    {
     "name": "stdout",
     "output_type": "stream",
     "text": [
      " AnnualRevenue \n",
      " DandB Revenue \n",
      " Total BRR \n",
      " X36 MRC List \n",
      " X36 NPV List \n",
      " X36 NRR List \n",
      "City_cpqs\n",
      "City_opp\n",
      "CreatedDate_cpqs\n",
      "CreatedDate_opp\n",
      "DandB Total Employees\n",
      "Industry\n",
      "Market_cpqs\n",
      "Market_opp\n",
      "Network Proximity_cpqs\n",
      "Network Proximity_opp\n",
      "NumberOfEmployees\n",
      "On Zayo Network Status_cpqs\n",
      "On Zayo Network Status_opp\n",
      "Opportunity Type\n",
      "Postal Code_cpqs\n",
      "Postal Code_opp\n",
      "Product Group_cpqs\n",
      "Product Group_opp\n",
      "Service\n",
      "State_cpqs\n",
      "State_opp\n",
      "Term in Months\n",
      "Vertical\n"
     ]
    }
   ],
   "source": [
    "from sklearn import preprocessing\n",
    "\n",
    "# Sklearn's decision trees do not like features which are strings. We need \n",
    "# to convert any features which are strings into numerical values. We'll use\n",
    "# Sklearn's built in label encoding. We'll store these encoders for our \n",
    "# understanding later.\n",
    "\n",
    "le = {}\n",
    "\n",
    "for feature in features:\n",
    "    print feature\n",
    "    if opp_filtered[feature].dtype == np.float64 or opp_filtered[feature].dtype == np.int64:\n",
    "        opp_filtered[feature] = opp_filtered[feature].replace(np.nan, 0, regex=True)\n",
    "        continue\n",
    "    #print feature\n",
    "    opp_filtered[feature] = opp_filtered[feature].replace(np.nan, u'NaN', regex=True)\n",
    "    \n",
    "    le[feature] = preprocessing.LabelEncoder()\n",
    "    le[feature].fit(opp_filtered[feature])\n",
    "    #print le[feature].classes_\n",
    "\n",
    "    opp_filtered[feature] = [le[feature].transform([row])[0] for row in opp_filtered[feature]]        "
   ]
  },
  {
   "cell_type": "code",
   "execution_count": 45,
   "metadata": {
    "collapsed": false
   },
   "outputs": [
    {
     "data": {
      "text/html": [
       "<div>\n",
       "<table border=\"1\" class=\"dataframe\">\n",
       "  <thead>\n",
       "    <tr style=\"text-align: right;\">\n",
       "      <th></th>\n",
       "      <th>CreatedDate_opp</th>\n",
       "      <th>Term in Months</th>\n",
       "      <th>Service</th>\n",
       "      <th>Opportunity Type</th>\n",
       "      <th>Product Group_opp</th>\n",
       "      <th>Market_opp</th>\n",
       "      <th>City_opp</th>\n",
       "      <th>State_opp</th>\n",
       "      <th>Postal Code_opp</th>\n",
       "      <th>Network Proximity_opp</th>\n",
       "      <th>...</th>\n",
       "      <th>Product Group_cpqs</th>\n",
       "      <th>X36 MRC List</th>\n",
       "      <th>X36 NRR List</th>\n",
       "      <th>X36 NPV List</th>\n",
       "      <th>Market_cpqs</th>\n",
       "      <th>City_cpqs</th>\n",
       "      <th>State_cpqs</th>\n",
       "      <th>Postal Code_cpqs</th>\n",
       "      <th>Network Proximity_cpqs</th>\n",
       "      <th>On Zayo Network Status_cpqs</th>\n",
       "    </tr>\n",
       "  </thead>\n",
       "  <tbody>\n",
       "    <tr>\n",
       "      <th>0</th>\n",
       "      <td>149</td>\n",
       "      <td>12.0</td>\n",
       "      <td>0</td>\n",
       "      <td>4</td>\n",
       "      <td>2</td>\n",
       "      <td>0</td>\n",
       "      <td>8</td>\n",
       "      <td>1</td>\n",
       "      <td>30303</td>\n",
       "      <td>66.45</td>\n",
       "      <td>...</td>\n",
       "      <td>2</td>\n",
       "      <td>4098</td>\n",
       "      <td>0</td>\n",
       "      <td>305</td>\n",
       "      <td>0</td>\n",
       "      <td>5</td>\n",
       "      <td>1</td>\n",
       "      <td>29</td>\n",
       "      <td>1055.22</td>\n",
       "      <td>3</td>\n",
       "    </tr>\n",
       "    <tr>\n",
       "      <th>1</th>\n",
       "      <td>149</td>\n",
       "      <td>12.0</td>\n",
       "      <td>0</td>\n",
       "      <td>4</td>\n",
       "      <td>2</td>\n",
       "      <td>0</td>\n",
       "      <td>8</td>\n",
       "      <td>1</td>\n",
       "      <td>30303</td>\n",
       "      <td>66.45</td>\n",
       "      <td>...</td>\n",
       "      <td>2</td>\n",
       "      <td>4098</td>\n",
       "      <td>0</td>\n",
       "      <td>305</td>\n",
       "      <td>0</td>\n",
       "      <td>5</td>\n",
       "      <td>1</td>\n",
       "      <td>54</td>\n",
       "      <td>93.75</td>\n",
       "      <td>3</td>\n",
       "    </tr>\n",
       "    <tr>\n",
       "      <th>2</th>\n",
       "      <td>149</td>\n",
       "      <td>12.0</td>\n",
       "      <td>0</td>\n",
       "      <td>4</td>\n",
       "      <td>2</td>\n",
       "      <td>0</td>\n",
       "      <td>8</td>\n",
       "      <td>1</td>\n",
       "      <td>30303</td>\n",
       "      <td>66.45</td>\n",
       "      <td>...</td>\n",
       "      <td>2</td>\n",
       "      <td>1240</td>\n",
       "      <td>192</td>\n",
       "      <td>541</td>\n",
       "      <td>0</td>\n",
       "      <td>5</td>\n",
       "      <td>1</td>\n",
       "      <td>54</td>\n",
       "      <td>93.75</td>\n",
       "      <td>3</td>\n",
       "    </tr>\n",
       "    <tr>\n",
       "      <th>3</th>\n",
       "      <td>149</td>\n",
       "      <td>12.0</td>\n",
       "      <td>0</td>\n",
       "      <td>4</td>\n",
       "      <td>2</td>\n",
       "      <td>0</td>\n",
       "      <td>8</td>\n",
       "      <td>1</td>\n",
       "      <td>30303</td>\n",
       "      <td>66.45</td>\n",
       "      <td>...</td>\n",
       "      <td>2</td>\n",
       "      <td>4786</td>\n",
       "      <td>192</td>\n",
       "      <td>1234</td>\n",
       "      <td>0</td>\n",
       "      <td>2</td>\n",
       "      <td>1</td>\n",
       "      <td>0</td>\n",
       "      <td>91.05</td>\n",
       "      <td>3</td>\n",
       "    </tr>\n",
       "    <tr>\n",
       "      <th>4</th>\n",
       "      <td>149</td>\n",
       "      <td>12.0</td>\n",
       "      <td>0</td>\n",
       "      <td>4</td>\n",
       "      <td>2</td>\n",
       "      <td>0</td>\n",
       "      <td>8</td>\n",
       "      <td>1</td>\n",
       "      <td>30303</td>\n",
       "      <td>66.45</td>\n",
       "      <td>...</td>\n",
       "      <td>2</td>\n",
       "      <td>4786</td>\n",
       "      <td>192</td>\n",
       "      <td>1234</td>\n",
       "      <td>0</td>\n",
       "      <td>5</td>\n",
       "      <td>1</td>\n",
       "      <td>54</td>\n",
       "      <td>93.75</td>\n",
       "      <td>3</td>\n",
       "    </tr>\n",
       "  </tbody>\n",
       "</table>\n",
       "<p>5 rows × 30 columns</p>\n",
       "</div>"
      ],
      "text/plain": [
       "   CreatedDate_opp  Term in Months  Service  Opportunity Type  \\\n",
       "0              149            12.0        0                 4   \n",
       "1              149            12.0        0                 4   \n",
       "2              149            12.0        0                 4   \n",
       "3              149            12.0        0                 4   \n",
       "4              149            12.0        0                 4   \n",
       "\n",
       "   Product Group_opp  Market_opp  City_opp  State_opp  Postal Code_opp  \\\n",
       "0                  2           0         8          1            30303   \n",
       "1                  2           0         8          1            30303   \n",
       "2                  2           0         8          1            30303   \n",
       "3                  2           0         8          1            30303   \n",
       "4                  2           0         8          1            30303   \n",
       "\n",
       "   Network Proximity_opp             ...               Product Group_cpqs  \\\n",
       "0                  66.45             ...                                2   \n",
       "1                  66.45             ...                                2   \n",
       "2                  66.45             ...                                2   \n",
       "3                  66.45             ...                                2   \n",
       "4                  66.45             ...                                2   \n",
       "\n",
       "   X36 MRC List    X36 NRR List    X36 NPV List   Market_cpqs  City_cpqs  \\\n",
       "0           4098               0             305            0          5   \n",
       "1           4098               0             305            0          5   \n",
       "2           1240             192             541            0          5   \n",
       "3           4786             192            1234            0          2   \n",
       "4           4786             192            1234            0          5   \n",
       "\n",
       "   State_cpqs  Postal Code_cpqs  Network Proximity_cpqs  \\\n",
       "0           1                29                 1055.22   \n",
       "1           1                54                   93.75   \n",
       "2           1                54                   93.75   \n",
       "3           1                 0                   91.05   \n",
       "4           1                54                   93.75   \n",
       "\n",
       "   On Zayo Network Status_cpqs  \n",
       "0                            3  \n",
       "1                            3  \n",
       "2                            3  \n",
       "3                            3  \n",
       "4                            3  \n",
       "\n",
       "[5 rows x 30 columns]"
      ]
     },
     "execution_count": 45,
     "metadata": {},
     "output_type": "execute_result"
    }
   ],
   "source": [
    "opp_filtered.to_csv(\"opp_training_data.csv\", sep =\",\")\n",
    "opp_filtered.head()"
   ]
  },
  {
   "cell_type": "code",
   "execution_count": 46,
   "metadata": {
    "collapsed": false
   },
   "outputs": [
    {
     "data": {
      "text/plain": [
       "['State_opp',\n",
       " 'State_cpqs',\n",
       " 'Service',\n",
       " 'Product Group_cpqs',\n",
       " 'CreatedDate_opp',\n",
       " 'On Zayo Network Status_opp',\n",
       " ' Total BRR ',\n",
       " ' X36 MRC List ',\n",
       " 'Vertical',\n",
       " 'Market_opp',\n",
       " 'CreatedDate_cpqs',\n",
       " 'Market_cpqs',\n",
       " 'City_opp',\n",
       " 'City_cpqs',\n",
       " 'Industry',\n",
       " 'Postal Code_cpqs',\n",
       " 'Product Group_opp',\n",
       " ' X36 NPV List ',\n",
       " ' AnnualRevenue ',\n",
       " 'On Zayo Network Status_cpqs',\n",
       " 'Opportunity Type',\n",
       " ' DandB Revenue ',\n",
       " ' X36 NRR List ']"
      ]
     },
     "execution_count": 46,
     "metadata": {},
     "output_type": "execute_result"
    }
   ],
   "source": [
    "le.keys()"
   ]
  },
  {
   "cell_type": "markdown",
   "metadata": {},
   "source": [
    "## Build a Decision Tree"
   ]
  },
  {
   "cell_type": "code",
   "execution_count": 47,
   "metadata": {
    "collapsed": false
   },
   "outputs": [],
   "source": [
    "from sklearn import tree\n",
    "\n",
    "clf = tree.DecisionTreeClassifier()\n",
    "clf = clf.fit(opp_filtered[features].values, opp_filtered[prediction].values)"
   ]
  },
  {
   "cell_type": "code",
   "execution_count": 75,
   "metadata": {
    "collapsed": false
   },
   "outputs": [
    {
     "data": {
      "text/plain": [
       "'\\nfrom IPython.display import Image  \\nimport pydotplus\\ndot_data = tree.export_graphviz(clf, out_file=None,  \\n                         filled=True, rounded=True,  \\n                         special_characters=True)  \\ngraph = pydotplus.graph_from_dot_data(dot_data)  \\nImage(graph.create_png())\\n'"
      ]
     },
     "execution_count": 75,
     "metadata": {},
     "output_type": "execute_result"
    }
   ],
   "source": [
    "\"\"\"\n",
    "from IPython.display import Image  \n",
    "import pydotplus\n",
    "dot_data = tree.export_graphviz(clf, out_file=None,  \n",
    "                         filled=True, rounded=True,  \n",
    "                         special_characters=True)  \n",
    "graph = pydotplus.graph_from_dot_data(dot_data)  \n",
    "Image(graph.create_png())\n",
    "\"\"\""
   ]
  },
  {
   "cell_type": "markdown",
   "metadata": {},
   "source": [
    "## Check Accuracy Using Holdout Set"
   ]
  },
  {
   "cell_type": "code",
   "execution_count": 50,
   "metadata": {
    "collapsed": false
   },
   "outputs": [
    {
     "name": "stdout",
     "output_type": "stream",
     "text": [
      "0.998267273121\n"
     ]
    }
   ],
   "source": [
    "# If we were really fancy we'd do a K-Folds test, but I'm\n",
    "# feeling kind of lazy, so I'll just train on the first 4/5ths\n",
    "# and test on the last 1/5th of data.\n",
    "\n",
    "clf = tree.DecisionTreeClassifier()\n",
    "fraction = 4.0/5.0\n",
    "shuffled = opp_filtered.sample(frac=1)\n",
    "trainX = shuffled[features][:int(round(fraction*len(shuffled)))].values\n",
    "trainY = shuffled[prediction][:int(round(fraction*len(shuffled)))].values\n",
    "\n",
    "clf = clf.fit(trainX, trainY)\n",
    "\n",
    "testX = shuffled[features][int(round(fraction*len(shuffled))):].values\n",
    "testY = shuffled[prediction][int(round(fraction*len(shuffled))):].values\n",
    "\n",
    "print(clf.score(testX, testY))"
   ]
  },
  {
   "cell_type": "markdown",
   "metadata": {},
   "source": [
    "## Build a Random Forest"
   ]
  },
  {
   "cell_type": "code",
   "execution_count": 55,
   "metadata": {
    "collapsed": false
   },
   "outputs": [
    {
     "name": "stderr",
     "output_type": "stream",
     "text": [
      "/usr/local/lib/python2.7/site-packages/ipykernel/__main__.py:15: DataConversionWarning: A column-vector y was passed when a 1d array was expected. Please change the shape of y to (n_samples,), for example using ravel().\n"
     ]
    },
    {
     "name": "stdout",
     "output_type": "stream",
     "text": [
      "0.966552182926\n"
     ]
    }
   ],
   "source": [
    "# Decision trees can be prone to overfitting. Let's use a\n",
    "# random forest (a bunch of decision trees trained on \n",
    "# sub-samples of the data).\n",
    "\n",
    "from sklearn import ensemble\n",
    "\n",
    "clf = ensemble.RandomForestClassifier()\n",
    "fraction = 4.0/5.0\n",
    "shuffled = opp_filtered.sample(frac=1)\n",
    "\n",
    "features = features.difference(['Created Date', 'CreatedDate_opp'])\n",
    "trainX = shuffled[features][:int(round(fraction*len(shuffled)))].values\n",
    "trainY = shuffled[prediction][:int(round(fraction*len(shuffled)))].values\n",
    "\n",
    "clf = clf.fit(trainX, trainY)\n",
    "\n",
    "testX = shuffled[features][int(round(fraction*len(shuffled))):].values\n",
    "testY = shuffled[prediction][int(round(fraction*len(shuffled))):].values\n",
    "\n",
    "print(clf.score(testX, testY))"
   ]
  },
  {
   "cell_type": "code",
   "execution_count": 56,
   "metadata": {
    "collapsed": false
   },
   "outputs": [
    {
     "name": "stdout",
     "output_type": "stream",
     "text": [
      "Feature ranking:\n",
      "1.\tfeature 26\t(0.306385, Term in Months)\n",
      "2.\tfeature 2\t(0.099370, Total BRR)\n",
      "3.\tfeature 22\t(0.079545, Product Group_opp)\n",
      "4.\tfeature 14\t(0.070856, Network Proximity_opp)\n",
      "5.\tfeature 10\t(0.070746, Industry)\n",
      "6.\tfeature 27\t(0.061491, Vertical)\n",
      "7.\tfeature 20\t(0.052337, Postal Code_opp)\n",
      "8.\tfeature 0\t(0.037708, AnnualRevenue)\n",
      "9.\tfeature 15\t(0.034917, NumberOfEmployees)\n",
      "10.\tfeature 1\t(0.031996, DandB Revenue)\n",
      "11.\tfeature 17\t(0.030821, On Zayo Network Status_opp)\n",
      "12.\tfeature 9\t(0.027275, DandB Total Employees)\n",
      "13.\tfeature 7\t(0.021490, City_opp)\n",
      "14.\tfeature 25\t(0.013258, State_opp)\n",
      "15.\tfeature 12\t(0.011840, Market_opp)\n",
      "16.\tfeature 8\t(0.009531, CreatedDate_cpqs)\n",
      "17.\tfeature 3\t(0.007654, X36 MRC List)\n",
      "18.\tfeature 4\t(0.006815, X36 NPV List)\n",
      "19.\tfeature 13\t(0.006229, Network Proximity_cpqs)\n",
      "20.\tfeature 5\t(0.003950, X36 NRR List)\n",
      "21.\tfeature 19\t(0.003760, Postal Code_cpqs)\n",
      "22.\tfeature 23\t(0.002520, Service)\n",
      "23.\tfeature 6\t(0.002209, City_cpqs)\n",
      "24.\tfeature 21\t(0.002114, Product Group_cpqs)\n",
      "25.\tfeature 18\t(0.001807, Opportunity Type)\n",
      "26.\tfeature 11\t(0.001337, Market_cpqs)\n",
      "27.\tfeature 24\t(0.001191, State_cpqs)\n",
      "28.\tfeature 16\t(0.000848, On Zayo Network Status_cpqs)\n"
     ]
    },
    {
     "data": {
      "image/png": "[encoded data removed]",
      "text/plain": [
       "<matplotlib.figure.Figure at 0x114c49410>"
      ]
     },
     "metadata": {},
     "output_type": "display_data"
    }
   ],
   "source": [
    "importances = clf.feature_importances_\n",
    "std = np.std([tree.feature_importances_ for tree in clf.estimators_],\n",
    "             axis=0)\n",
    "indices = np.argsort(importances)[::-1]\n",
    "\n",
    "# Print the feature ranking\n",
    "print(\"Feature ranking:\")\n",
    "\n",
    "for f in range(opp_filtered[features].shape[1]):\n",
    "    print(\"%d.\\tfeature %d\\t(%f, %s)\" % (f + 1, indices[f], importances[indices[f]], opp_filtered[features].columns[indices[f]].strip()))\n",
    "\n",
    "# Plot the feature importances of the forest\n",
    "plt.figure()\n",
    "plt.title(\"Feature importances\")\n",
    "plt.bar(range(opp_filtered[features].shape[1]), importances[indices],\n",
    "    color = '0.75', yerr=std[indices], align=\"center\")\n",
    "plt.xticks(range(opp_filtered[features].shape[1]), indices)\n",
    "plt.xlim([-1, opp_filtered[features].shape[1]])\n",
    "plt.show()"
   ]
  },
  {
   "cell_type": "code",
   "execution_count": null,
   "metadata": {
    "collapsed": true
   },
   "outputs": [],
   "source": []
  }
 ],
 "metadata": {
  "kernelspec": {
   "display_name": "Python 2",
   "language": "python",
   "name": "python2"
  },
  "language_info": {
   "codemirror_mode": {
    "name": "ipython",
    "version": 2
   },
   "file_extension": ".py",
   "mimetype": "text/x-python",
   "name": "python",
   "nbconvert_exporter": "python",
   "pygments_lexer": "ipython2",
   "version": "2.7.12"
  }
 },
 "nbformat": 4,
 "nbformat_minor": 1
}
