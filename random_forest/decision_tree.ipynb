{
 "cells": [
  {
   "cell_type": "code",
   "execution_count": 1,
   "metadata": {
    "collapsed": true
   },
   "outputs": [],
   "source": [
    "import pandas as pd\n",
    "import numpy as np\n",
    "import matplotlib.pyplot as plt\n",
    "%matplotlib inline"
   ]
  },
  {
   "cell_type": "code",
   "execution_count": 2,
   "metadata": {
    "collapsed": false
   },
   "outputs": [],
   "source": [
    "accts = pd.read_csv(\"ZayoHackathonData_Accounts.csv\", index_col=0)\n",
    "cpqs = pd.read_csv(\"ZayoHackathonData_CPQs.csv\", index_col=0)\n",
    "opps = pd.read_csv(\"ZayoHackathonData_Opportunities.csv\", index_col=0)\n",
    "#svcs = pd.read_csv(\"ZayoHackathonData_Services.csv\", index_col=0)\n",
    "#sts = pd.read_csv(\"ZayoHackathonData_Sites.csv\", index_col=0)\n",
    "bldgs = pd.read_csv(\"ZayoHackathonData_Buildings.csv\")"
   ]
  },
  {
   "cell_type": "code",
   "execution_count": 3,
   "metadata": {
    "collapsed": false
   },
   "outputs": [
    {
     "data": {
      "text/plain": [
       "array(['1 - Working', '2 - Best Case', '3 - Committed', '4 - Closed',\n",
       "       '5 - Accepted', 'Closed - Lost'], dtype=object)"
      ]
     },
     "execution_count": 3,
     "metadata": {},
     "output_type": "execute_result"
    }
   ],
   "source": [
    "#opps.columns\n",
    "np.unique(opps['StageName'])"
   ]
  },
  {
   "cell_type": "code",
   "execution_count": 4,
   "metadata": {
    "collapsed": false
   },
   "outputs": [
    {
     "name": "stderr",
     "output_type": "stream",
     "text": [
      "/usr/local/lib/python2.7/site-packages/ipykernel/__main__.py:5: SettingWithCopyWarning: \n",
      "A value is trying to be set on a copy of a slice from a DataFrame.\n",
      "Try using .loc[row_indexer,col_indexer] = value instead\n",
      "\n",
      "See the caveats in the documentation: http://pandas.pydata.org/pandas-docs/stable/indexing.html#indexing-view-versus-copy\n"
     ]
    }
   ],
   "source": [
    "# Add a new column corresponding to whether or not the opportunity is close to being closed\n",
    "to_predict = opps[(opps[\"StageName\"] == \"1 - Working\") | (opps['StageName'] ==\" 2 - Best Case\")]\n",
    "opp = opps[(opps[\"StageName\"] == \"3 - Committed\") | (opps['StageName'] == \"4 - Closed\") | (opps['StageName'] == \"5 - Accepted\") | (opps['StageName'] == \"Closed - Lost\")]\n",
    "\n",
    "opp['IsCommitted'] = [row['StageName'] in [\"3 - Committed\", \"4 - Closed\", \"5 - Accepted\"] for i, row in opp.iterrows()]"
   ]
  },
  {
   "cell_type": "code",
   "execution_count": 5,
   "metadata": {
    "collapsed": false
   },
   "outputs": [
    {
     "data": {
      "text/plain": [
       "Index([u'Account ID', u'CreatedDate', u'Product Group', u' X36 MRC List ',\n",
       "       u' X36 NRR List ', u' X36 NPV List ', u'Building ID', u'Market',\n",
       "       u'Street Address', u'City', u'State', u'Postal Code',\n",
       "       u'Network Proximity', u'On Zayo Network Status'],\n",
       "      dtype='object')"
      ]
     },
     "execution_count": 5,
     "metadata": {},
     "output_type": "execute_result"
    }
   ],
   "source": [
    "cpqs.columns"
   ]
  },
  {
   "cell_type": "code",
   "execution_count": 6,
   "metadata": {
    "collapsed": false
   },
   "outputs": [
    {
     "name": "stdout",
     "output_type": "stream",
     "text": [
      "Index([u'IsCommitted'], dtype='object')\n"
     ]
    }
   ],
   "source": [
    "to_predict = to_predict.merge(accts, left_on = to_predict.columns[1], right_on = accts.columns[0], how = 'left', suffixes = ['_opp', '_accts'])\n",
    "opp = opp.merge(accts, left_on = opp.columns[1], right_on = accts.columns[0], how = 'left', suffixes = ['_opp', '_accts'])\n",
    "print(opp.columns.difference(to_predict.columns))"
   ]
  },
  {
   "cell_type": "code",
   "execution_count": 7,
   "metadata": {
    "collapsed": false
   },
   "outputs": [
    {
     "name": "stdout",
     "output_type": "stream",
     "text": [
      "Index([u'IsCommitted'], dtype='object')\n"
     ]
    }
   ],
   "source": [
    "to_predict = to_predict.merge(cpqs, left_on = to_predict.columns[1], right_on = cpqs.columns[0], how = 'left', suffixes = ['_opp', '_cpqs'])\n",
    "opp = opp.merge(cpqs, left_on = opp.columns[1], right_on = cpqs.columns[0], how = 'left', suffixes = ['_opp', '_cpqs'])\n",
    "print(opp.columns.difference(to_predict.columns))"
   ]
  },
  {
   "cell_type": "code",
   "execution_count": 8,
   "metadata": {
    "collapsed": false
   },
   "outputs": [
    {
     "name": "stdout",
     "output_type": "stream",
     "text": [
      "Index([u'IsCommitted'], dtype='object')\n"
     ]
    }
   ],
   "source": [
    "to_predict = to_predict.merge(bldgs, left_on = to_predict.columns[10], right_on = bldgs.columns[0], how = 'left', suffixes = ['_opp', '_bldgs'])\n",
    "opp = opp.merge(bldgs, left_on = opp.columns[10], right_on = bldgs.columns[0], how = 'left', suffixes = ['_opp', '_bldgs'])\n",
    "print(opp.columns.difference(to_predict.columns))"
   ]
  },
  {
   "cell_type": "code",
   "execution_count": 9,
   "metadata": {
    "collapsed": false
   },
   "outputs": [
    {
     "data": {
      "text/plain": [
       "Index([u'﻿Opportunity ID', u'Account ID', u'StageName', u'IsClosed', u'IsWon',\n",
       "       u'CreatedDate_opp', u'Term in Months', u'Service', u'Opportunity Type',\n",
       "       u'Product Group_opp', u'Building ID_opp', u'Market_opp',\n",
       "       u'Street Address_opp', u'City_opp', u'State_opp', u'Postal Code_opp',\n",
       "       u'Network Proximity_opp', u'On Zayo Network Status_opp',\n",
       "       u'Latitude_opp', u'Longitude_opp', u'Industry', u'Vertical',\n",
       "       u' Total BRR ', u' AnnualRevenue ', u'NumberOfEmployees',\n",
       "       u' DandB Revenue ', u'DandB Total Employees', u'CreatedDate_cpqs',\n",
       "       u'Product Group_cpqs', u' X36 MRC List ', u' X36 NRR List ',\n",
       "       u' X36 NPV List ', u'Building ID_cpqs', u'Market_cpqs',\n",
       "       u'Street Address_cpqs', u'City_cpqs', u'State_cpqs',\n",
       "       u'Postal Code_cpqs', u'Network Proximity_cpqs',\n",
       "       u'On Zayo Network Status_cpqs', u'Building ID', u'Market',\n",
       "       u'Street Address', u'City', u'State', u'Postal Code', u'Latitude_bldgs',\n",
       "       u'Longitude_bldgs', u'On Zayo Network Status', u'Net Classification',\n",
       "       u'Type', u'Network Proximity', u' Estimated Build Cost '],\n",
       "      dtype='object')"
      ]
     },
     "execution_count": 9,
     "metadata": {},
     "output_type": "execute_result"
    }
   ],
   "source": [
    "to_predict.columns"
   ]
  },
  {
   "cell_type": "markdown",
   "metadata": {},
   "source": [
    "## Data Preprocessing"
   ]
  },
  {
   "cell_type": "code",
   "execution_count": 10,
   "metadata": {
    "collapsed": false
   },
   "outputs": [
    {
     "data": {
      "text/plain": [
       "Index([u'Term in Months', u'Service', u'Opportunity Type',\n",
       "       u'Product Group_opp', u'Market_opp', u'City_opp', u'State_opp',\n",
       "       u'Postal Code_opp', u'Network Proximity_opp',\n",
       "       u'On Zayo Network Status_opp', u'IsCommitted', u'Industry', u'Vertical',\n",
       "       u' Total BRR ', u' AnnualRevenue ', u'NumberOfEmployees',\n",
       "       u' DandB Revenue ', u'DandB Total Employees', u'Product Group_cpqs',\n",
       "       u' X36 MRC List ', u' X36 NRR List ', u' X36 NPV List ', u'Market_cpqs',\n",
       "       u'City_cpqs', u'State_cpqs', u'Postal Code_cpqs',\n",
       "       u'Network Proximity_cpqs', u'On Zayo Network Status_cpqs', u'Market',\n",
       "       u'City', u'State', u'Postal Code', u'On Zayo Network Status',\n",
       "       u'Net Classification', u'Type', u'Network Proximity',\n",
       "       u' Estimated Build Cost '],\n",
       "      dtype='object')"
      ]
     },
     "execution_count": 10,
     "metadata": {},
     "output_type": "execute_result"
    }
   ],
   "source": [
    "opp_filtered = opp.drop([opp.columns[0], opp.columns[1], opp.columns[2], opp.columns[3], opp.columns[4], \n",
    "                         opp.columns[5], opp.columns[10], opp.columns[12], opp.columns[18], opp.columns[19], \n",
    "                         opp.columns[28], opp.columns[33], opp.columns[35], opp.columns[41], opp.columns[43], \n",
    "                         opp.columns[47], opp.columns[48]], axis=1)\n",
    "opp_filtered.columns"
   ]
  },
  {
   "cell_type": "code",
   "execution_count": 11,
   "metadata": {
    "collapsed": false
   },
   "outputs": [
    {
     "data": {
      "text/plain": [
       "Index([u'Term in Months', u'Service', u'Opportunity Type',\n",
       "       u'Product Group_opp', u'Market_opp', u'City_opp', u'State_opp',\n",
       "       u'Postal Code_opp', u'Network Proximity_opp',\n",
       "       u'On Zayo Network Status_opp', u'Industry', u'Vertical', u' Total BRR ',\n",
       "       u' AnnualRevenue ', u'NumberOfEmployees', u' DandB Revenue ',\n",
       "       u'DandB Total Employees', u'Product Group_cpqs', u' X36 MRC List ',\n",
       "       u' X36 NRR List ', u' X36 NPV List ', u'Market_cpqs', u'City_cpqs',\n",
       "       u'State_cpqs', u'Postal Code_cpqs', u'Network Proximity_cpqs',\n",
       "       u'On Zayo Network Status_cpqs', u'Market', u'City', u'State',\n",
       "       u'Postal Code', u'On Zayo Network Status', u'Net Classification',\n",
       "       u'Type', u'Network Proximity', u' Estimated Build Cost '],\n",
       "      dtype='object')"
      ]
     },
     "execution_count": 11,
     "metadata": {},
     "output_type": "execute_result"
    }
   ],
   "source": [
    "to_predict_filtered = to_predict.drop([to_predict.columns[0], to_predict.columns[1], to_predict.columns[2], \n",
    "                              to_predict.columns[3], to_predict.columns[4], to_predict.columns[5], \n",
    "                              to_predict.columns[10], to_predict.columns[12], to_predict.columns[18], \n",
    "                              to_predict.columns[19], to_predict.columns[27], to_predict.columns[32], \n",
    "                              to_predict.columns[34], to_predict.columns[40], to_predict.columns[42], \n",
    "                              to_predict.columns[46], to_predict.columns[47]], axis=1)\n",
    "to_predict_filtered.columns"
   ]
  },
  {
   "cell_type": "code",
   "execution_count": 12,
   "metadata": {
    "collapsed": false
   },
   "outputs": [
    {
     "name": "stdout",
     "output_type": "stream",
     "text": [
      "(36, 37)\n"
     ]
    }
   ],
   "source": [
    "print(len(to_predict_filtered.columns), len(opp_filtered.columns))"
   ]
  },
  {
   "cell_type": "code",
   "execution_count": 13,
   "metadata": {
    "collapsed": false
   },
   "outputs": [
    {
     "name": "stderr",
     "output_type": "stream",
     "text": [
      "/usr/local/lib/python2.7/site-packages/ipykernel/__main__.py:1: FutureWarning: using '-' to provide set differences with Indexes is deprecated, use .difference()\n",
      "  if __name__ == '__main__':\n"
     ]
    },
    {
     "data": {
      "text/html": [
       "<div>\n",
       "<table border=\"1\" class=\"dataframe\">\n",
       "  <thead>\n",
       "    <tr style=\"text-align: right;\">\n",
       "      <th></th>\n",
       "      <th>AnnualRevenue</th>\n",
       "      <th>DandB Revenue</th>\n",
       "      <th>Estimated Build Cost</th>\n",
       "      <th>Total BRR</th>\n",
       "      <th>X36 MRC List</th>\n",
       "      <th>X36 NPV List</th>\n",
       "      <th>X36 NRR List</th>\n",
       "      <th>City</th>\n",
       "      <th>City_cpqs</th>\n",
       "      <th>City_opp</th>\n",
       "      <th>...</th>\n",
       "      <th>Postal Code_opp</th>\n",
       "      <th>Product Group_cpqs</th>\n",
       "      <th>Product Group_opp</th>\n",
       "      <th>Service</th>\n",
       "      <th>State</th>\n",
       "      <th>State_cpqs</th>\n",
       "      <th>State_opp</th>\n",
       "      <th>Term in Months</th>\n",
       "      <th>Type</th>\n",
       "      <th>Vertical</th>\n",
       "    </tr>\n",
       "  </thead>\n",
       "  <tbody>\n",
       "    <tr>\n",
       "      <th>723585</th>\n",
       "      <td>NaN</td>\n",
       "      <td>NaN</td>\n",
       "      <td>$27,768.50</td>\n",
       "      <td>NaN</td>\n",
       "      <td>$576.25</td>\n",
       "      <td>$13,889.20</td>\n",
       "      <td>$-</td>\n",
       "      <td>Carrollton</td>\n",
       "      <td>Carrollton</td>\n",
       "      <td>Carrollton</td>\n",
       "      <td>...</td>\n",
       "      <td>75007</td>\n",
       "      <td>Ethernet</td>\n",
       "      <td>Ethernet</td>\n",
       "      <td>NaN</td>\n",
       "      <td>TX</td>\n",
       "      <td>TX</td>\n",
       "      <td>TX</td>\n",
       "      <td>36.0</td>\n",
       "      <td>Neutral Data Center</td>\n",
       "      <td>NaN</td>\n",
       "    </tr>\n",
       "    <tr>\n",
       "      <th>723586</th>\n",
       "      <td>NaN</td>\n",
       "      <td>NaN</td>\n",
       "      <td>$27,768.50</td>\n",
       "      <td>NaN</td>\n",
       "      <td>$2,416.51</td>\n",
       "      <td>$20,340.23</td>\n",
       "      <td>$2,766.00</td>\n",
       "      <td>Carrollton</td>\n",
       "      <td>Englewood</td>\n",
       "      <td>Carrollton</td>\n",
       "      <td>...</td>\n",
       "      <td>75007</td>\n",
       "      <td>Wavelengths - Long Haul</td>\n",
       "      <td>Ethernet</td>\n",
       "      <td>NaN</td>\n",
       "      <td>TX</td>\n",
       "      <td>CO</td>\n",
       "      <td>TX</td>\n",
       "      <td>36.0</td>\n",
       "      <td>Neutral Data Center</td>\n",
       "      <td>NaN</td>\n",
       "    </tr>\n",
       "    <tr>\n",
       "      <th>723587</th>\n",
       "      <td>NaN</td>\n",
       "      <td>NaN</td>\n",
       "      <td>$27,768.50</td>\n",
       "      <td>NaN</td>\n",
       "      <td>$5,106.28</td>\n",
       "      <td>$44,056.87</td>\n",
       "      <td>$2,766.00</td>\n",
       "      <td>Carrollton</td>\n",
       "      <td>Denver</td>\n",
       "      <td>Carrollton</td>\n",
       "      <td>...</td>\n",
       "      <td>75007</td>\n",
       "      <td>Wavelengths - Metro</td>\n",
       "      <td>Ethernet</td>\n",
       "      <td>NaN</td>\n",
       "      <td>TX</td>\n",
       "      <td>CO</td>\n",
       "      <td>TX</td>\n",
       "      <td>36.0</td>\n",
       "      <td>Neutral Data Center</td>\n",
       "      <td>NaN</td>\n",
       "    </tr>\n",
       "    <tr>\n",
       "      <th>723588</th>\n",
       "      <td>NaN</td>\n",
       "      <td>NaN</td>\n",
       "      <td>$27,768.50</td>\n",
       "      <td>NaN</td>\n",
       "      <td>$5,106.28</td>\n",
       "      <td>$44,056.87</td>\n",
       "      <td>$2,766.00</td>\n",
       "      <td>Carrollton</td>\n",
       "      <td>Centennial</td>\n",
       "      <td>Carrollton</td>\n",
       "      <td>...</td>\n",
       "      <td>75007</td>\n",
       "      <td>Wavelengths - Metro</td>\n",
       "      <td>Ethernet</td>\n",
       "      <td>NaN</td>\n",
       "      <td>TX</td>\n",
       "      <td>CO</td>\n",
       "      <td>TX</td>\n",
       "      <td>36.0</td>\n",
       "      <td>Neutral Data Center</td>\n",
       "      <td>NaN</td>\n",
       "    </tr>\n",
       "    <tr>\n",
       "      <th>723589</th>\n",
       "      <td>NaN</td>\n",
       "      <td>NaN</td>\n",
       "      <td>$219,671.50</td>\n",
       "      <td>NaN</td>\n",
       "      <td>$1,664.05</td>\n",
       "      <td>$12,181.69</td>\n",
       "      <td>$922.00</td>\n",
       "      <td>Arvada</td>\n",
       "      <td>Arvada</td>\n",
       "      <td>Arvada</td>\n",
       "      <td>...</td>\n",
       "      <td>80004</td>\n",
       "      <td>Ethernet</td>\n",
       "      <td>Ethernet</td>\n",
       "      <td>NaN</td>\n",
       "      <td>CO</td>\n",
       "      <td>CO</td>\n",
       "      <td>CO</td>\n",
       "      <td>36.0</td>\n",
       "      <td>Private Data Center</td>\n",
       "      <td>NaN</td>\n",
       "    </tr>\n",
       "  </tbody>\n",
       "</table>\n",
       "<p>5 rows × 36 columns</p>\n",
       "</div>"
      ],
      "text/plain": [
       "        AnnualRevenue   DandB Revenue   Estimated Build Cost   Total BRR   \\\n",
       "723585             NaN             NaN            $27,768.50          NaN   \n",
       "723586             NaN             NaN            $27,768.50          NaN   \n",
       "723587             NaN             NaN            $27,768.50          NaN   \n",
       "723588             NaN             NaN            $27,768.50          NaN   \n",
       "723589             NaN             NaN           $219,671.50          NaN   \n",
       "\n",
       "        X36 MRC List   X36 NPV List   X36 NRR List         City   City_cpqs  \\\n",
       "723585       $576.25     $13,889.20           $-     Carrollton  Carrollton   \n",
       "723586     $2,416.51     $20,340.23      $2,766.00   Carrollton   Englewood   \n",
       "723587     $5,106.28     $44,056.87      $2,766.00   Carrollton      Denver   \n",
       "723588     $5,106.28     $44,056.87      $2,766.00   Carrollton  Centennial   \n",
       "723589     $1,664.05     $12,181.69        $922.00       Arvada      Arvada   \n",
       "\n",
       "          City_opp    ...     Postal Code_opp       Product Group_cpqs  \\\n",
       "723585  Carrollton    ...               75007                 Ethernet   \n",
       "723586  Carrollton    ...               75007  Wavelengths - Long Haul   \n",
       "723587  Carrollton    ...               75007      Wavelengths - Metro   \n",
       "723588  Carrollton    ...               75007      Wavelengths - Metro   \n",
       "723589      Arvada    ...               80004                 Ethernet   \n",
       "\n",
       "       Product Group_opp Service State State_cpqs  State_opp  Term in Months  \\\n",
       "723585          Ethernet     NaN    TX         TX         TX            36.0   \n",
       "723586          Ethernet     NaN    TX         CO         TX            36.0   \n",
       "723587          Ethernet     NaN    TX         CO         TX            36.0   \n",
       "723588          Ethernet     NaN    TX         CO         TX            36.0   \n",
       "723589          Ethernet     NaN    CO         CO         CO            36.0   \n",
       "\n",
       "                       Type  Vertical  \n",
       "723585  Neutral Data Center       NaN  \n",
       "723586  Neutral Data Center       NaN  \n",
       "723587  Neutral Data Center       NaN  \n",
       "723588  Neutral Data Center       NaN  \n",
       "723589  Private Data Center       NaN  \n",
       "\n",
       "[5 rows x 36 columns]"
      ]
     },
     "execution_count": 13,
     "metadata": {},
     "output_type": "execute_result"
    }
   ],
   "source": [
    "features = opp_filtered.columns - [u'IsCommitted']\n",
    "prediction = [u'IsCommitted']\n",
    "\n",
    "opp_filtered[features].tail()"
   ]
  },
  {
   "cell_type": "code",
   "execution_count": 14,
   "metadata": {
    "collapsed": false
   },
   "outputs": [
    {
     "data": {
      "text/html": [
       "<div>\n",
       "<table border=\"1\" class=\"dataframe\">\n",
       "  <thead>\n",
       "    <tr style=\"text-align: right;\">\n",
       "      <th></th>\n",
       "      <th>AnnualRevenue</th>\n",
       "      <th>DandB Revenue</th>\n",
       "      <th>Estimated Build Cost</th>\n",
       "      <th>Total BRR</th>\n",
       "      <th>X36 MRC List</th>\n",
       "      <th>X36 NPV List</th>\n",
       "      <th>X36 NRR List</th>\n",
       "      <th>City</th>\n",
       "      <th>City_cpqs</th>\n",
       "      <th>City_opp</th>\n",
       "      <th>...</th>\n",
       "      <th>Postal Code_opp</th>\n",
       "      <th>Product Group_cpqs</th>\n",
       "      <th>Product Group_opp</th>\n",
       "      <th>Service</th>\n",
       "      <th>State</th>\n",
       "      <th>State_cpqs</th>\n",
       "      <th>State_opp</th>\n",
       "      <th>Term in Months</th>\n",
       "      <th>Type</th>\n",
       "      <th>Vertical</th>\n",
       "    </tr>\n",
       "  </thead>\n",
       "  <tbody>\n",
       "    <tr>\n",
       "      <th>723585</th>\n",
       "      <td>NaN</td>\n",
       "      <td>NaN</td>\n",
       "      <td>27768.5</td>\n",
       "      <td>NaN</td>\n",
       "      <td>576.25</td>\n",
       "      <td>13889.20</td>\n",
       "      <td>0.0</td>\n",
       "      <td>Carrollton</td>\n",
       "      <td>Carrollton</td>\n",
       "      <td>Carrollton</td>\n",
       "      <td>...</td>\n",
       "      <td>75007</td>\n",
       "      <td>Ethernet</td>\n",
       "      <td>Ethernet</td>\n",
       "      <td>NaN</td>\n",
       "      <td>TX</td>\n",
       "      <td>TX</td>\n",
       "      <td>TX</td>\n",
       "      <td>36.0</td>\n",
       "      <td>Neutral Data Center</td>\n",
       "      <td>NaN</td>\n",
       "    </tr>\n",
       "    <tr>\n",
       "      <th>723586</th>\n",
       "      <td>NaN</td>\n",
       "      <td>NaN</td>\n",
       "      <td>27768.5</td>\n",
       "      <td>NaN</td>\n",
       "      <td>2416.51</td>\n",
       "      <td>20340.23</td>\n",
       "      <td>2766.0</td>\n",
       "      <td>Carrollton</td>\n",
       "      <td>Englewood</td>\n",
       "      <td>Carrollton</td>\n",
       "      <td>...</td>\n",
       "      <td>75007</td>\n",
       "      <td>Wavelengths - Long Haul</td>\n",
       "      <td>Ethernet</td>\n",
       "      <td>NaN</td>\n",
       "      <td>TX</td>\n",
       "      <td>CO</td>\n",
       "      <td>TX</td>\n",
       "      <td>36.0</td>\n",
       "      <td>Neutral Data Center</td>\n",
       "      <td>NaN</td>\n",
       "    </tr>\n",
       "    <tr>\n",
       "      <th>723587</th>\n",
       "      <td>NaN</td>\n",
       "      <td>NaN</td>\n",
       "      <td>27768.5</td>\n",
       "      <td>NaN</td>\n",
       "      <td>5106.28</td>\n",
       "      <td>44056.87</td>\n",
       "      <td>2766.0</td>\n",
       "      <td>Carrollton</td>\n",
       "      <td>Denver</td>\n",
       "      <td>Carrollton</td>\n",
       "      <td>...</td>\n",
       "      <td>75007</td>\n",
       "      <td>Wavelengths - Metro</td>\n",
       "      <td>Ethernet</td>\n",
       "      <td>NaN</td>\n",
       "      <td>TX</td>\n",
       "      <td>CO</td>\n",
       "      <td>TX</td>\n",
       "      <td>36.0</td>\n",
       "      <td>Neutral Data Center</td>\n",
       "      <td>NaN</td>\n",
       "    </tr>\n",
       "    <tr>\n",
       "      <th>723588</th>\n",
       "      <td>NaN</td>\n",
       "      <td>NaN</td>\n",
       "      <td>27768.5</td>\n",
       "      <td>NaN</td>\n",
       "      <td>5106.28</td>\n",
       "      <td>44056.87</td>\n",
       "      <td>2766.0</td>\n",
       "      <td>Carrollton</td>\n",
       "      <td>Centennial</td>\n",
       "      <td>Carrollton</td>\n",
       "      <td>...</td>\n",
       "      <td>75007</td>\n",
       "      <td>Wavelengths - Metro</td>\n",
       "      <td>Ethernet</td>\n",
       "      <td>NaN</td>\n",
       "      <td>TX</td>\n",
       "      <td>CO</td>\n",
       "      <td>TX</td>\n",
       "      <td>36.0</td>\n",
       "      <td>Neutral Data Center</td>\n",
       "      <td>NaN</td>\n",
       "    </tr>\n",
       "    <tr>\n",
       "      <th>723589</th>\n",
       "      <td>NaN</td>\n",
       "      <td>NaN</td>\n",
       "      <td>219671.5</td>\n",
       "      <td>NaN</td>\n",
       "      <td>1664.05</td>\n",
       "      <td>12181.69</td>\n",
       "      <td>922.0</td>\n",
       "      <td>Arvada</td>\n",
       "      <td>Arvada</td>\n",
       "      <td>Arvada</td>\n",
       "      <td>...</td>\n",
       "      <td>80004</td>\n",
       "      <td>Ethernet</td>\n",
       "      <td>Ethernet</td>\n",
       "      <td>NaN</td>\n",
       "      <td>CO</td>\n",
       "      <td>CO</td>\n",
       "      <td>CO</td>\n",
       "      <td>36.0</td>\n",
       "      <td>Private Data Center</td>\n",
       "      <td>NaN</td>\n",
       "    </tr>\n",
       "  </tbody>\n",
       "</table>\n",
       "<p>5 rows × 36 columns</p>\n",
       "</div>"
      ],
      "text/plain": [
       "         AnnualRevenue    DandB Revenue    Estimated Build Cost    Total BRR   \\\n",
       "723585              NaN              NaN                 27768.5          NaN   \n",
       "723586              NaN              NaN                 27768.5          NaN   \n",
       "723587              NaN              NaN                 27768.5          NaN   \n",
       "723588              NaN              NaN                 27768.5          NaN   \n",
       "723589              NaN              NaN                219671.5          NaN   \n",
       "\n",
       "         X36 MRC List    X36 NPV List    X36 NRR List         City  \\\n",
       "723585          576.25        13889.20             0.0  Carrollton   \n",
       "723586         2416.51        20340.23          2766.0  Carrollton   \n",
       "723587         5106.28        44056.87          2766.0  Carrollton   \n",
       "723588         5106.28        44056.87          2766.0  Carrollton   \n",
       "723589         1664.05        12181.69           922.0      Arvada   \n",
       "\n",
       "         City_cpqs    City_opp    ...     Postal Code_opp  \\\n",
       "723585  Carrollton  Carrollton    ...               75007   \n",
       "723586   Englewood  Carrollton    ...               75007   \n",
       "723587      Denver  Carrollton    ...               75007   \n",
       "723588  Centennial  Carrollton    ...               75007   \n",
       "723589      Arvada      Arvada    ...               80004   \n",
       "\n",
       "             Product Group_cpqs Product Group_opp Service State State_cpqs  \\\n",
       "723585                 Ethernet          Ethernet     NaN    TX         TX   \n",
       "723586  Wavelengths - Long Haul          Ethernet     NaN    TX         CO   \n",
       "723587      Wavelengths - Metro          Ethernet     NaN    TX         CO   \n",
       "723588      Wavelengths - Metro          Ethernet     NaN    TX         CO   \n",
       "723589                 Ethernet          Ethernet     NaN    CO         CO   \n",
       "\n",
       "        State_opp  Term in Months                 Type  Vertical  \n",
       "723585         TX            36.0  Neutral Data Center       NaN  \n",
       "723586         TX            36.0  Neutral Data Center       NaN  \n",
       "723587         TX            36.0  Neutral Data Center       NaN  \n",
       "723588         TX            36.0  Neutral Data Center       NaN  \n",
       "723589         CO            36.0  Private Data Center       NaN  \n",
       "\n",
       "[5 rows x 36 columns]"
      ]
     },
     "execution_count": 14,
     "metadata": {},
     "output_type": "execute_result"
    }
   ],
   "source": [
    "# First let's convert any dollar amounts to floats\n",
    "to_predict_filtered[[' AnnualRevenue ']] = to_predict_filtered[[' AnnualRevenue ']].replace('[\\$,]','',regex=True).replace('[\\-]','0',regex=True).astype(float)\n",
    "to_predict_filtered[[' DandB Revenue ']] = to_predict_filtered[[' DandB Revenue ']].replace('[\\$,]','',regex=True).replace('[\\-]','0',regex=True).astype(float)\n",
    "to_predict_filtered[[' Estimated Build Cost ']] = to_predict_filtered[[' Estimated Build Cost ']].replace('[\\$,]','',regex=True).astype(float)\n",
    "to_predict_filtered[[' Total BRR ']] = to_predict_filtered[[' Total BRR ']].replace('[\\$,]','',regex=True).replace('[\\-]','0',regex=True).astype(float)\n",
    "to_predict_filtered[[' X36 MRC List ']] = to_predict_filtered[[' X36 MRC List ']].replace('[\\$,]','',regex=True).replace('[\\-]','0',regex=True).astype(float)\n",
    "to_predict_filtered[[' X36 NPV List ']] = to_predict_filtered[[' X36 NPV List ']].replace('[\\$,]','',regex=True).replace('[\\-]','0',regex=True).astype(float)\n",
    "to_predict_filtered[[' X36 NRR List ']] = to_predict_filtered[[' X36 NRR List ']].replace('[\\$,]','',regex=True).replace('[\\-]','0',regex=True).astype(float)\n",
    "to_predict_filtered[features].tail()\n",
    "\n",
    "opp_filtered[[' AnnualRevenue ']] = opp_filtered[[' AnnualRevenue ']].replace('[\\$,]','',regex=True).replace('[\\-]','0',regex=True).astype(float)\n",
    "opp_filtered[[' DandB Revenue ']] = opp_filtered[[' DandB Revenue ']].replace('[\\$,]','',regex=True).replace('[\\-]','0',regex=True).astype(float)\n",
    "opp_filtered[[' Estimated Build Cost ']] = opp_filtered[[' Estimated Build Cost ']].replace('[\\$,]','',regex=True).astype(float)\n",
    "opp_filtered[[' Total BRR ']] = opp_filtered[[' Total BRR ']].replace('[\\$,]','',regex=True).replace('[\\-]','0',regex=True).astype(float)\n",
    "opp_filtered[[' X36 MRC List ']] = opp_filtered[[' X36 MRC List ']].replace('[\\$,]','',regex=True).replace('[\\-]','0',regex=True).astype(float)\n",
    "opp_filtered[[' X36 NPV List ']] = opp_filtered[[' X36 NPV List ']].replace('[\\$,]','',regex=True).replace('[\\-]','0',regex=True).astype(float)\n",
    "opp_filtered[[' X36 NRR List ']] = opp_filtered[[' X36 NRR List ']].replace('[\\$,]','',regex=True).replace('[\\-]','0',regex=True).astype(float)\n",
    "\n",
    "opp_filtered[features].tail()"
   ]
  },
  {
   "cell_type": "code",
   "execution_count": 15,
   "metadata": {
    "collapsed": false
   },
   "outputs": [
    {
     "name": "stdout",
     "output_type": "stream",
     "text": [
      "City\n",
      "City_cpqs\n",
      "City_opp\n",
      "Industry\n",
      "Market\n",
      "Market_cpqs\n",
      "Market_opp\n",
      "Net Classification\n",
      "On Zayo Network Status\n",
      "On Zayo Network Status_cpqs\n",
      "On Zayo Network Status_opp\n",
      "Opportunity Type\n",
      "Postal Code\n",
      "Postal Code_cpqs\n",
      "Product Group_cpqs\n",
      "Product Group_opp\n",
      "Service\n",
      "State\n",
      "State_cpqs\n",
      "State_opp\n",
      "Type\n",
      "Vertical\n"
     ]
    }
   ],
   "source": [
    "from sklearn import preprocessing\n",
    "\n",
    "# Sklearn's decision trees do not like features which are strings. We need \n",
    "# to convert any features which are strings into numerical values. We'll use\n",
    "# Sklearn's built in label encoding. We'll store these encoders for our \n",
    "# understanding later.\n",
    "\n",
    "le = {}\n",
    "\n",
    "for feature in features:\n",
    "    #print feature\n",
    "    if opp_filtered[feature].dtype == np.float64 or opp_filtered[feature].dtype == np.int64:\n",
    "        opp_filtered[feature] = opp_filtered[feature].replace(np.nan, 0, regex=True)\n",
    "        to_predict_filtered[feature] = to_predict_filtered[feature].replace(np.nan, 0, regex=True)\n",
    "        continue\n",
    "    print feature\n",
    "    opp_filtered[feature] = opp_filtered[feature].replace(np.nan, u'NaN', regex=True)\n",
    "    to_predict_filtered[feature] = to_predict_filtered[feature].replace(np.nan, u'NaN', regex=True)\n",
    "    \n",
    "    le[feature] = preprocessing.LabelEncoder()\n",
    "    le[feature].fit(pd.concat([opp_filtered[feature], to_predict_filtered[feature]]))\n",
    "    #print le[feature].classes_\n",
    "\n",
    "    opp_filtered[feature] = [le[feature].transform([row])[0] for row in opp_filtered[feature]]\n",
    "    to_predict_filtered[feature] = [le[feature].transform([row])[0] for row in to_predict_filtered[feature]] "
   ]
  },
  {
   "cell_type": "code",
   "execution_count": 16,
   "metadata": {
    "collapsed": false
   },
   "outputs": [
    {
     "data": {
      "text/html": [
       "<div>\n",
       "<table border=\"1\" class=\"dataframe\">\n",
       "  <thead>\n",
       "    <tr style=\"text-align: right;\">\n",
       "      <th></th>\n",
       "      <th>Term in Months</th>\n",
       "      <th>Service</th>\n",
       "      <th>Opportunity Type</th>\n",
       "      <th>Product Group_opp</th>\n",
       "      <th>Market_opp</th>\n",
       "      <th>City_opp</th>\n",
       "      <th>State_opp</th>\n",
       "      <th>Postal Code_opp</th>\n",
       "      <th>Network Proximity_opp</th>\n",
       "      <th>On Zayo Network Status_opp</th>\n",
       "      <th>...</th>\n",
       "      <th>On Zayo Network Status_cpqs</th>\n",
       "      <th>Market</th>\n",
       "      <th>City</th>\n",
       "      <th>State</th>\n",
       "      <th>Postal Code</th>\n",
       "      <th>On Zayo Network Status</th>\n",
       "      <th>Net Classification</th>\n",
       "      <th>Type</th>\n",
       "      <th>Network Proximity</th>\n",
       "      <th>Estimated Build Cost</th>\n",
       "    </tr>\n",
       "  </thead>\n",
       "  <tbody>\n",
       "    <tr>\n",
       "      <th>0</th>\n",
       "      <td>12.0</td>\n",
       "      <td>0</td>\n",
       "      <td>5</td>\n",
       "      <td>3</td>\n",
       "      <td>0</td>\n",
       "      <td>8</td>\n",
       "      <td>1</td>\n",
       "      <td>30303</td>\n",
       "      <td>66.45</td>\n",
       "      <td>2</td>\n",
       "      <td>...</td>\n",
       "      <td>3</td>\n",
       "      <td>0</td>\n",
       "      <td>8</td>\n",
       "      <td>1</td>\n",
       "      <td>56</td>\n",
       "      <td>2</td>\n",
       "      <td>1</td>\n",
       "      <td>1</td>\n",
       "      <td>66.45</td>\n",
       "      <td>11993.5</td>\n",
       "    </tr>\n",
       "    <tr>\n",
       "      <th>1</th>\n",
       "      <td>12.0</td>\n",
       "      <td>0</td>\n",
       "      <td>5</td>\n",
       "      <td>3</td>\n",
       "      <td>0</td>\n",
       "      <td>8</td>\n",
       "      <td>1</td>\n",
       "      <td>30303</td>\n",
       "      <td>66.45</td>\n",
       "      <td>2</td>\n",
       "      <td>...</td>\n",
       "      <td>3</td>\n",
       "      <td>0</td>\n",
       "      <td>8</td>\n",
       "      <td>1</td>\n",
       "      <td>56</td>\n",
       "      <td>2</td>\n",
       "      <td>1</td>\n",
       "      <td>1</td>\n",
       "      <td>66.45</td>\n",
       "      <td>11993.5</td>\n",
       "    </tr>\n",
       "    <tr>\n",
       "      <th>2</th>\n",
       "      <td>12.0</td>\n",
       "      <td>0</td>\n",
       "      <td>5</td>\n",
       "      <td>3</td>\n",
       "      <td>0</td>\n",
       "      <td>8</td>\n",
       "      <td>1</td>\n",
       "      <td>30303</td>\n",
       "      <td>66.45</td>\n",
       "      <td>2</td>\n",
       "      <td>...</td>\n",
       "      <td>3</td>\n",
       "      <td>0</td>\n",
       "      <td>8</td>\n",
       "      <td>1</td>\n",
       "      <td>56</td>\n",
       "      <td>2</td>\n",
       "      <td>1</td>\n",
       "      <td>1</td>\n",
       "      <td>66.45</td>\n",
       "      <td>11993.5</td>\n",
       "    </tr>\n",
       "    <tr>\n",
       "      <th>3</th>\n",
       "      <td>12.0</td>\n",
       "      <td>0</td>\n",
       "      <td>5</td>\n",
       "      <td>3</td>\n",
       "      <td>0</td>\n",
       "      <td>8</td>\n",
       "      <td>1</td>\n",
       "      <td>30303</td>\n",
       "      <td>66.45</td>\n",
       "      <td>2</td>\n",
       "      <td>...</td>\n",
       "      <td>3</td>\n",
       "      <td>0</td>\n",
       "      <td>8</td>\n",
       "      <td>1</td>\n",
       "      <td>56</td>\n",
       "      <td>2</td>\n",
       "      <td>1</td>\n",
       "      <td>1</td>\n",
       "      <td>66.45</td>\n",
       "      <td>11993.5</td>\n",
       "    </tr>\n",
       "    <tr>\n",
       "      <th>4</th>\n",
       "      <td>12.0</td>\n",
       "      <td>0</td>\n",
       "      <td>5</td>\n",
       "      <td>3</td>\n",
       "      <td>0</td>\n",
       "      <td>8</td>\n",
       "      <td>1</td>\n",
       "      <td>30303</td>\n",
       "      <td>66.45</td>\n",
       "      <td>2</td>\n",
       "      <td>...</td>\n",
       "      <td>3</td>\n",
       "      <td>0</td>\n",
       "      <td>8</td>\n",
       "      <td>1</td>\n",
       "      <td>56</td>\n",
       "      <td>2</td>\n",
       "      <td>1</td>\n",
       "      <td>1</td>\n",
       "      <td>66.45</td>\n",
       "      <td>11993.5</td>\n",
       "    </tr>\n",
       "  </tbody>\n",
       "</table>\n",
       "<p>5 rows × 37 columns</p>\n",
       "</div>"
      ],
      "text/plain": [
       "   Term in Months  Service  Opportunity Type  Product Group_opp  Market_opp  \\\n",
       "0            12.0        0                 5                  3           0   \n",
       "1            12.0        0                 5                  3           0   \n",
       "2            12.0        0                 5                  3           0   \n",
       "3            12.0        0                 5                  3           0   \n",
       "4            12.0        0                 5                  3           0   \n",
       "\n",
       "   City_opp  State_opp  Postal Code_opp  Network Proximity_opp  \\\n",
       "0         8          1            30303                  66.45   \n",
       "1         8          1            30303                  66.45   \n",
       "2         8          1            30303                  66.45   \n",
       "3         8          1            30303                  66.45   \n",
       "4         8          1            30303                  66.45   \n",
       "\n",
       "   On Zayo Network Status_opp           ...            \\\n",
       "0                           2           ...             \n",
       "1                           2           ...             \n",
       "2                           2           ...             \n",
       "3                           2           ...             \n",
       "4                           2           ...             \n",
       "\n",
       "  On Zayo Network Status_cpqs  Market  City  State  Postal Code  \\\n",
       "0                           3       0     8      1           56   \n",
       "1                           3       0     8      1           56   \n",
       "2                           3       0     8      1           56   \n",
       "3                           3       0     8      1           56   \n",
       "4                           3       0     8      1           56   \n",
       "\n",
       "   On Zayo Network Status  Net Classification  Type  Network Proximity  \\\n",
       "0                       2                   1     1              66.45   \n",
       "1                       2                   1     1              66.45   \n",
       "2                       2                   1     1              66.45   \n",
       "3                       2                   1     1              66.45   \n",
       "4                       2                   1     1              66.45   \n",
       "\n",
       "    Estimated Build Cost   \n",
       "0                 11993.5  \n",
       "1                 11993.5  \n",
       "2                 11993.5  \n",
       "3                 11993.5  \n",
       "4                 11993.5  \n",
       "\n",
       "[5 rows x 37 columns]"
      ]
     },
     "execution_count": 16,
     "metadata": {},
     "output_type": "execute_result"
    }
   ],
   "source": [
    "opp_filtered.to_csv(\"opp_training_data.csv\", sep =\",\")\n",
    "opp_filtered.head()"
   ]
  },
  {
   "cell_type": "code",
   "execution_count": 17,
   "metadata": {
    "collapsed": false
   },
   "outputs": [
    {
     "data": {
      "text/html": [
       "<div>\n",
       "<table border=\"1\" class=\"dataframe\">\n",
       "  <thead>\n",
       "    <tr style=\"text-align: right;\">\n",
       "      <th></th>\n",
       "      <th>Term in Months</th>\n",
       "      <th>Service</th>\n",
       "      <th>Opportunity Type</th>\n",
       "      <th>Product Group_opp</th>\n",
       "      <th>Market_opp</th>\n",
       "      <th>City_opp</th>\n",
       "      <th>State_opp</th>\n",
       "      <th>Postal Code_opp</th>\n",
       "      <th>Network Proximity_opp</th>\n",
       "      <th>On Zayo Network Status_opp</th>\n",
       "      <th>...</th>\n",
       "      <th>On Zayo Network Status_cpqs</th>\n",
       "      <th>Market</th>\n",
       "      <th>City</th>\n",
       "      <th>State</th>\n",
       "      <th>Postal Code</th>\n",
       "      <th>On Zayo Network Status</th>\n",
       "      <th>Net Classification</th>\n",
       "      <th>Type</th>\n",
       "      <th>Network Proximity</th>\n",
       "      <th>Estimated Build Cost</th>\n",
       "    </tr>\n",
       "  </thead>\n",
       "  <tbody>\n",
       "    <tr>\n",
       "      <th>0</th>\n",
       "      <td>0.0</td>\n",
       "      <td>0</td>\n",
       "      <td>5</td>\n",
       "      <td>3</td>\n",
       "      <td>0</td>\n",
       "      <td>8</td>\n",
       "      <td>1</td>\n",
       "      <td>30309</td>\n",
       "      <td>185.76</td>\n",
       "      <td>2</td>\n",
       "      <td>...</td>\n",
       "      <td>3</td>\n",
       "      <td>0</td>\n",
       "      <td>8</td>\n",
       "      <td>1</td>\n",
       "      <td>61</td>\n",
       "      <td>2</td>\n",
       "      <td>1</td>\n",
       "      <td>19</td>\n",
       "      <td>185.76</td>\n",
       "      <td>15572.8</td>\n",
       "    </tr>\n",
       "    <tr>\n",
       "      <th>1</th>\n",
       "      <td>0.0</td>\n",
       "      <td>0</td>\n",
       "      <td>5</td>\n",
       "      <td>3</td>\n",
       "      <td>0</td>\n",
       "      <td>8</td>\n",
       "      <td>1</td>\n",
       "      <td>30309</td>\n",
       "      <td>185.76</td>\n",
       "      <td>2</td>\n",
       "      <td>...</td>\n",
       "      <td>3</td>\n",
       "      <td>0</td>\n",
       "      <td>8</td>\n",
       "      <td>1</td>\n",
       "      <td>61</td>\n",
       "      <td>2</td>\n",
       "      <td>1</td>\n",
       "      <td>19</td>\n",
       "      <td>185.76</td>\n",
       "      <td>15572.8</td>\n",
       "    </tr>\n",
       "    <tr>\n",
       "      <th>2</th>\n",
       "      <td>0.0</td>\n",
       "      <td>0</td>\n",
       "      <td>5</td>\n",
       "      <td>3</td>\n",
       "      <td>0</td>\n",
       "      <td>8</td>\n",
       "      <td>1</td>\n",
       "      <td>30309</td>\n",
       "      <td>185.76</td>\n",
       "      <td>2</td>\n",
       "      <td>...</td>\n",
       "      <td>3</td>\n",
       "      <td>0</td>\n",
       "      <td>8</td>\n",
       "      <td>1</td>\n",
       "      <td>61</td>\n",
       "      <td>2</td>\n",
       "      <td>1</td>\n",
       "      <td>19</td>\n",
       "      <td>185.76</td>\n",
       "      <td>15572.8</td>\n",
       "    </tr>\n",
       "    <tr>\n",
       "      <th>3</th>\n",
       "      <td>0.0</td>\n",
       "      <td>0</td>\n",
       "      <td>5</td>\n",
       "      <td>3</td>\n",
       "      <td>0</td>\n",
       "      <td>8</td>\n",
       "      <td>1</td>\n",
       "      <td>30309</td>\n",
       "      <td>185.76</td>\n",
       "      <td>2</td>\n",
       "      <td>...</td>\n",
       "      <td>3</td>\n",
       "      <td>0</td>\n",
       "      <td>8</td>\n",
       "      <td>1</td>\n",
       "      <td>61</td>\n",
       "      <td>2</td>\n",
       "      <td>1</td>\n",
       "      <td>19</td>\n",
       "      <td>185.76</td>\n",
       "      <td>15572.8</td>\n",
       "    </tr>\n",
       "    <tr>\n",
       "      <th>4</th>\n",
       "      <td>0.0</td>\n",
       "      <td>0</td>\n",
       "      <td>5</td>\n",
       "      <td>3</td>\n",
       "      <td>0</td>\n",
       "      <td>8</td>\n",
       "      <td>1</td>\n",
       "      <td>30309</td>\n",
       "      <td>185.76</td>\n",
       "      <td>2</td>\n",
       "      <td>...</td>\n",
       "      <td>3</td>\n",
       "      <td>0</td>\n",
       "      <td>8</td>\n",
       "      <td>1</td>\n",
       "      <td>61</td>\n",
       "      <td>2</td>\n",
       "      <td>1</td>\n",
       "      <td>19</td>\n",
       "      <td>185.76</td>\n",
       "      <td>15572.8</td>\n",
       "    </tr>\n",
       "  </tbody>\n",
       "</table>\n",
       "<p>5 rows × 36 columns</p>\n",
       "</div>"
      ],
      "text/plain": [
       "   Term in Months  Service  Opportunity Type  Product Group_opp  Market_opp  \\\n",
       "0             0.0        0                 5                  3           0   \n",
       "1             0.0        0                 5                  3           0   \n",
       "2             0.0        0                 5                  3           0   \n",
       "3             0.0        0                 5                  3           0   \n",
       "4             0.0        0                 5                  3           0   \n",
       "\n",
       "   City_opp  State_opp  Postal Code_opp  Network Proximity_opp  \\\n",
       "0         8          1            30309                 185.76   \n",
       "1         8          1            30309                 185.76   \n",
       "2         8          1            30309                 185.76   \n",
       "3         8          1            30309                 185.76   \n",
       "4         8          1            30309                 185.76   \n",
       "\n",
       "   On Zayo Network Status_opp           ...            \\\n",
       "0                           2           ...             \n",
       "1                           2           ...             \n",
       "2                           2           ...             \n",
       "3                           2           ...             \n",
       "4                           2           ...             \n",
       "\n",
       "   On Zayo Network Status_cpqs  Market  City  State  Postal Code  \\\n",
       "0                            3       0     8      1           61   \n",
       "1                            3       0     8      1           61   \n",
       "2                            3       0     8      1           61   \n",
       "3                            3       0     8      1           61   \n",
       "4                            3       0     8      1           61   \n",
       "\n",
       "   On Zayo Network Status  Net Classification  Type  Network Proximity  \\\n",
       "0                       2                   1    19             185.76   \n",
       "1                       2                   1    19             185.76   \n",
       "2                       2                   1    19             185.76   \n",
       "3                       2                   1    19             185.76   \n",
       "4                       2                   1    19             185.76   \n",
       "\n",
       "    Estimated Build Cost   \n",
       "0                 15572.8  \n",
       "1                 15572.8  \n",
       "2                 15572.8  \n",
       "3                 15572.8  \n",
       "4                 15572.8  \n",
       "\n",
       "[5 rows x 36 columns]"
      ]
     },
     "execution_count": 17,
     "metadata": {},
     "output_type": "execute_result"
    }
   ],
   "source": [
    "to_predict_filtered.to_csv(\"opp_test_data.csv\", sep =\",\")\n",
    "to_predict_filtered.head()"
   ]
  },
  {
   "cell_type": "code",
   "execution_count": 18,
   "metadata": {
    "collapsed": false
   },
   "outputs": [
    {
     "name": "stdout",
     "output_type": "stream",
     "text": [
      "['State_opp', 'City', 'State_cpqs', 'Service', 'Product Group_cpqs', 'On Zayo Network Status', 'On Zayo Network Status_opp', 'Type', 'Vertical', 'Market_opp', 'Market_cpqs', 'City_opp', 'City_cpqs', 'Industry', 'Postal Code', 'Postal Code_cpqs', 'Product Group_opp', 'State', 'On Zayo Network Status_cpqs', 'Opportunity Type', 'Net Classification', 'Market']\n"
     ]
    }
   ],
   "source": [
    "import pickle\n",
    "\n",
    "print(le.keys())\n",
    "\n",
    "with open('label_encoding.p', 'wb') as handle:\n",
    "    pickle.dump(le, handle)"
   ]
  },
  {
   "cell_type": "markdown",
   "metadata": {},
   "source": [
    "## Build a Random Forest"
   ]
  },
  {
   "cell_type": "code",
   "execution_count": 19,
   "metadata": {
    "collapsed": false
   },
   "outputs": [
    {
     "name": "stderr",
     "output_type": "stream",
     "text": [
      "/usr/local/lib/python2.7/site-packages/ipykernel/__main__.py:14: DataConversionWarning: A column-vector y was passed when a 1d array was expected. Please change the shape of y to (n_samples,), for example using ravel().\n"
     ]
    },
    {
     "name": "stdout",
     "output_type": "stream",
     "text": [
      "0.981087356099\n"
     ]
    }
   ],
   "source": [
    "# Decision trees can be prone to overfitting. Let's use a\n",
    "# random forest (a bunch of decision trees trained on \n",
    "# sub-samples of the data).\n",
    "\n",
    "from sklearn import ensemble\n",
    "\n",
    "clf = ensemble.RandomForestClassifier()\n",
    "fraction = 4.0/5.0\n",
    "shuffled = opp_filtered.sample(frac=1)\n",
    "\n",
    "trainX = shuffled[features][:int(round(fraction*len(shuffled)))].values\n",
    "trainY = shuffled[prediction][:int(round(fraction*len(shuffled)))].values\n",
    "\n",
    "clf = clf.fit(trainX, trainY)\n",
    "\n",
    "testX = shuffled[features][int(round(fraction*len(shuffled))):].values\n",
    "testY = shuffled[prediction][int(round(fraction*len(shuffled))):].values\n",
    "\n",
    "print(clf.score(testX, testY))"
   ]
  },
  {
   "cell_type": "code",
   "execution_count": 20,
   "metadata": {
    "collapsed": false
   },
   "outputs": [
    {
     "name": "stdout",
     "output_type": "stream",
     "text": [
      "Feature ranking:\n",
      "1.\tfeature 33\t(0.214991, Term in Months)\n",
      "2.\tfeature 20\t(0.120111, On Zayo Network Status)\n",
      "3.\tfeature 28\t(0.111689, Product Group_opp)\n",
      "4.\tfeature 16\t(0.073625, Network Proximity)\n",
      "5.\tfeature 22\t(0.059480, On Zayo Network Status_opp)\n",
      "6.\tfeature 18\t(0.047910, Network Proximity_opp)\n",
      "7.\tfeature 3\t(0.045447, Total BRR)\n",
      "8.\tfeature 2\t(0.035057, Estimated Build Cost)\n",
      "9.\tfeature 24\t(0.034751, Postal Code)\n",
      "10.\tfeature 9\t(0.031798, City_opp)\n",
      "11.\tfeature 6\t(0.030938, X36 NRR List)\n",
      "12.\tfeature 26\t(0.029440, Postal Code_opp)\n",
      "13.\tfeature 34\t(0.029299, Type)\n",
      "14.\tfeature 15\t(0.022707, Net Classification)\n",
      "15.\tfeature 7\t(0.021952, City)\n",
      "16.\tfeature 4\t(0.016168, X36 MRC List)\n",
      "17.\tfeature 5\t(0.015476, X36 NPV List)\n",
      "18.\tfeature 14\t(0.010288, Market_opp)\n",
      "19.\tfeature 27\t(0.010023, Product Group_cpqs)\n",
      "20.\tfeature 17\t(0.009349, Network Proximity_cpqs)\n",
      "21.\tfeature 25\t(0.009022, Postal Code_cpqs)\n",
      "22.\tfeature 8\t(0.004961, City_cpqs)\n",
      "23.\tfeature 32\t(0.003420, State_opp)\n",
      "24.\tfeature 30\t(0.002729, State)\n",
      "25.\tfeature 23\t(0.002176, Opportunity Type)\n",
      "26.\tfeature 12\t(0.002040, Market)\n",
      "27.\tfeature 13\t(0.001610, Market_cpqs)\n",
      "28.\tfeature 21\t(0.001396, On Zayo Network Status_cpqs)\n",
      "29.\tfeature 31\t(0.001183, State_cpqs)\n",
      "30.\tfeature 29\t(0.000911, Service)\n",
      "31.\tfeature 35\t(0.000029, Vertical)\n",
      "32.\tfeature 19\t(0.000025, NumberOfEmployees)\n",
      "33.\tfeature 10\t(0.000000, DandB Total Employees)\n",
      "34.\tfeature 11\t(0.000000, Industry)\n",
      "35.\tfeature 1\t(0.000000, DandB Revenue)\n",
      "36.\tfeature 0\t(0.000000, AnnualRevenue)\n"
     ]
    },
    {
     "data": {
      "image/png": "[encoded data removed]",
      "text/plain": [
       "<matplotlib.figure.Figure at 0x11224bcd0>"
      ]
     },
     "metadata": {},
     "output_type": "display_data"
    }
   ],
   "source": [
    "importances = clf.feature_importances_\n",
    "std = np.std([tree.feature_importances_ for tree in clf.estimators_],\n",
    "             axis=0)\n",
    "indices = np.argsort(importances)[::-1]\n",
    "\n",
    "# Print the feature ranking\n",
    "print(\"Feature ranking:\")\n",
    "\n",
    "for f in range(opp_filtered[features].shape[1]):\n",
    "    print(\"%d.\\tfeature %d\\t(%f, %s)\" % (f + 1, indices[f], importances[indices[f]], opp_filtered[features].columns[indices[f]].strip()))\n",
    "\n",
    "# Plot the feature importances of the forest\n",
    "plt.figure()\n",
    "plt.title(\"Feature importances\")\n",
    "plt.bar(range(opp_filtered[features].shape[1]), importances[indices],\n",
    "    color = '0.75', yerr=std[indices], align=\"center\")\n",
    "plt.xticks(range(opp_filtered[features].shape[1]), indices)\n",
    "plt.xlim([-1, opp_filtered[features].shape[1]])\n",
    "plt.show()"
   ]
  },
  {
   "cell_type": "code",
   "execution_count": 21,
   "metadata": {
    "collapsed": false
   },
   "outputs": [
    {
     "data": {
      "text/plain": [
       "'\\nfrom sklearn import tree\\n\\nfrom IPython.display import Image  \\nimport pydotplus\\ndot_data = tree.export_graphviz(clf, out_file=None,  \\n                         filled=True, rounded=True,  \\n                         special_characters=True)  \\ngraph = pydotplus.graph_from_dot_data(dot_data)  \\nImage(graph.create_png())\\n'"
      ]
     },
     "execution_count": 21,
     "metadata": {},
     "output_type": "execute_result"
    }
   ],
   "source": [
    "\"\"\"\n",
    "from sklearn import tree\n",
    "\n",
    "from IPython.display import Image  \n",
    "import pydotplus\n",
    "dot_data = tree.export_graphviz(clf, out_file=None,  \n",
    "                         filled=True, rounded=True,  \n",
    "                         special_characters=True)  \n",
    "graph = pydotplus.graph_from_dot_data(dot_data)  \n",
    "Image(graph.create_png())\n",
    "\"\"\""
   ]
  },
  {
   "cell_type": "markdown",
   "metadata": {},
   "source": [
    "## Predict on working account"
   ]
  },
  {
   "cell_type": "code",
   "execution_count": 22,
   "metadata": {
    "collapsed": false
   },
   "outputs": [
    {
     "data": {
      "text/plain": [
       "Index([u'Term in Months', u'Service', u'Opportunity Type',\n",
       "       u'Product Group_opp', u'Market_opp', u'City_opp', u'State_opp',\n",
       "       u'Postal Code_opp', u'Network Proximity_opp',\n",
       "       u'On Zayo Network Status_opp', u'Industry', u'Vertical', u' Total BRR ',\n",
       "       u' AnnualRevenue ', u'NumberOfEmployees', u' DandB Revenue ',\n",
       "       u'DandB Total Employees', u'Product Group_cpqs', u' X36 MRC List ',\n",
       "       u' X36 NRR List ', u' X36 NPV List ', u'Market_cpqs', u'City_cpqs',\n",
       "       u'State_cpqs', u'Postal Code_cpqs', u'Network Proximity_cpqs',\n",
       "       u'On Zayo Network Status_cpqs', u'Market', u'City', u'State',\n",
       "       u'Postal Code', u'On Zayo Network Status', u'Net Classification',\n",
       "       u'Type', u'Network Proximity', u' Estimated Build Cost '],\n",
       "      dtype='object')"
      ]
     },
     "execution_count": 22,
     "metadata": {},
     "output_type": "execute_result"
    }
   ],
   "source": [
    "to_predict_filtered.columns"
   ]
  },
  {
   "cell_type": "code",
   "execution_count": 23,
   "metadata": {
    "collapsed": false
   },
   "outputs": [],
   "source": [
    "test_predictions = clf.predict_proba(to_predict_filtered[features].values)"
   ]
  },
  {
   "cell_type": "code",
   "execution_count": 24,
   "metadata": {
    "collapsed": false
   },
   "outputs": [
    {
     "data": {
      "text/plain": [
       "array([False,  True], dtype=bool)"
      ]
     },
     "execution_count": 24,
     "metadata": {},
     "output_type": "execute_result"
    }
   ],
   "source": [
    "clf.classes_"
   ]
  },
  {
   "cell_type": "code",
   "execution_count": 29,
   "metadata": {
    "collapsed": false
   },
   "outputs": [
    {
     "data": {
      "text/plain": [
       "877203"
      ]
     },
     "execution_count": 29,
     "metadata": {},
     "output_type": "execute_result"
    }
   ],
   "source": [
    "len(test_predictions)"
   ]
  },
  {
   "cell_type": "code",
   "execution_count": 30,
   "metadata": {
    "collapsed": false
   },
   "outputs": [
    {
     "data": {
      "text/html": [
       "<div>\n",
       "<table border=\"1\" class=\"dataframe\">\n",
       "  <thead>\n",
       "    <tr style=\"text-align: right;\">\n",
       "      <th></th>\n",
       "      <th>﻿Opportunity ID</th>\n",
       "      <th>Account ID</th>\n",
       "      <th>StageName</th>\n",
       "      <th>IsClosed</th>\n",
       "      <th>IsWon</th>\n",
       "      <th>CreatedDate_opp</th>\n",
       "      <th>Term in Months</th>\n",
       "      <th>Service</th>\n",
       "      <th>Opportunity Type</th>\n",
       "      <th>Product Group_opp</th>\n",
       "      <th>...</th>\n",
       "      <th>State</th>\n",
       "      <th>Postal Code</th>\n",
       "      <th>Latitude_bldgs</th>\n",
       "      <th>Longitude_bldgs</th>\n",
       "      <th>On Zayo Network Status</th>\n",
       "      <th>Net Classification</th>\n",
       "      <th>Type</th>\n",
       "      <th>Network Proximity</th>\n",
       "      <th>Estimated Build Cost</th>\n",
       "      <th>IsCommittedProbability</th>\n",
       "    </tr>\n",
       "  </thead>\n",
       "  <tbody>\n",
       "    <tr>\n",
       "      <th>0</th>\n",
       "      <td>Opp-000004</td>\n",
       "      <td>Acct-000143</td>\n",
       "      <td>1 - Working</td>\n",
       "      <td>False</td>\n",
       "      <td>False</td>\n",
       "      <td>7/1/16</td>\n",
       "      <td>NaN</td>\n",
       "      <td>NaN</td>\n",
       "      <td>New Service</td>\n",
       "      <td>Ethernet</td>\n",
       "      <td>...</td>\n",
       "      <td>GA</td>\n",
       "      <td>30309</td>\n",
       "      <td>33.783427</td>\n",
       "      <td>-84.388557</td>\n",
       "      <td>On Zayo Network</td>\n",
       "      <td>On-Net</td>\n",
       "      <td>Neutral Data Center</td>\n",
       "      <td>185.76</td>\n",
       "      <td>$15,572.80</td>\n",
       "      <td>0.0</td>\n",
       "    </tr>\n",
       "    <tr>\n",
       "      <th>1</th>\n",
       "      <td>Opp-000004</td>\n",
       "      <td>Acct-000143</td>\n",
       "      <td>1 - Working</td>\n",
       "      <td>False</td>\n",
       "      <td>False</td>\n",
       "      <td>7/1/16</td>\n",
       "      <td>NaN</td>\n",
       "      <td>NaN</td>\n",
       "      <td>New Service</td>\n",
       "      <td>Ethernet</td>\n",
       "      <td>...</td>\n",
       "      <td>GA</td>\n",
       "      <td>30309</td>\n",
       "      <td>33.783427</td>\n",
       "      <td>-84.388557</td>\n",
       "      <td>On Zayo Network</td>\n",
       "      <td>On-Net</td>\n",
       "      <td>Neutral Data Center</td>\n",
       "      <td>185.76</td>\n",
       "      <td>$15,572.80</td>\n",
       "      <td>0.0</td>\n",
       "    </tr>\n",
       "    <tr>\n",
       "      <th>2</th>\n",
       "      <td>Opp-000004</td>\n",
       "      <td>Acct-000143</td>\n",
       "      <td>1 - Working</td>\n",
       "      <td>False</td>\n",
       "      <td>False</td>\n",
       "      <td>7/1/16</td>\n",
       "      <td>NaN</td>\n",
       "      <td>NaN</td>\n",
       "      <td>New Service</td>\n",
       "      <td>Ethernet</td>\n",
       "      <td>...</td>\n",
       "      <td>GA</td>\n",
       "      <td>30309</td>\n",
       "      <td>33.783427</td>\n",
       "      <td>-84.388557</td>\n",
       "      <td>On Zayo Network</td>\n",
       "      <td>On-Net</td>\n",
       "      <td>Neutral Data Center</td>\n",
       "      <td>185.76</td>\n",
       "      <td>$15,572.80</td>\n",
       "      <td>0.0</td>\n",
       "    </tr>\n",
       "    <tr>\n",
       "      <th>3</th>\n",
       "      <td>Opp-000004</td>\n",
       "      <td>Acct-000143</td>\n",
       "      <td>1 - Working</td>\n",
       "      <td>False</td>\n",
       "      <td>False</td>\n",
       "      <td>7/1/16</td>\n",
       "      <td>NaN</td>\n",
       "      <td>NaN</td>\n",
       "      <td>New Service</td>\n",
       "      <td>Ethernet</td>\n",
       "      <td>...</td>\n",
       "      <td>GA</td>\n",
       "      <td>30309</td>\n",
       "      <td>33.783427</td>\n",
       "      <td>-84.388557</td>\n",
       "      <td>On Zayo Network</td>\n",
       "      <td>On-Net</td>\n",
       "      <td>Neutral Data Center</td>\n",
       "      <td>185.76</td>\n",
       "      <td>$15,572.80</td>\n",
       "      <td>0.0</td>\n",
       "    </tr>\n",
       "    <tr>\n",
       "      <th>4</th>\n",
       "      <td>Opp-000004</td>\n",
       "      <td>Acct-000143</td>\n",
       "      <td>1 - Working</td>\n",
       "      <td>False</td>\n",
       "      <td>False</td>\n",
       "      <td>7/1/16</td>\n",
       "      <td>NaN</td>\n",
       "      <td>NaN</td>\n",
       "      <td>New Service</td>\n",
       "      <td>Ethernet</td>\n",
       "      <td>...</td>\n",
       "      <td>GA</td>\n",
       "      <td>30309</td>\n",
       "      <td>33.783427</td>\n",
       "      <td>-84.388557</td>\n",
       "      <td>On Zayo Network</td>\n",
       "      <td>On-Net</td>\n",
       "      <td>Neutral Data Center</td>\n",
       "      <td>185.76</td>\n",
       "      <td>$15,572.80</td>\n",
       "      <td>0.1</td>\n",
       "    </tr>\n",
       "  </tbody>\n",
       "</table>\n",
       "<p>5 rows × 54 columns</p>\n",
       "</div>"
      ],
      "text/plain": [
       "  ﻿Opportunity ID   Account ID    StageName IsClosed  IsWon CreatedDate_opp  \\\n",
       "0      Opp-000004  Acct-000143  1 - Working    False  False          7/1/16   \n",
       "1      Opp-000004  Acct-000143  1 - Working    False  False          7/1/16   \n",
       "2      Opp-000004  Acct-000143  1 - Working    False  False          7/1/16   \n",
       "3      Opp-000004  Acct-000143  1 - Working    False  False          7/1/16   \n",
       "4      Opp-000004  Acct-000143  1 - Working    False  False          7/1/16   \n",
       "\n",
       "   Term in Months Service Opportunity Type Product Group_opp  \\\n",
       "0             NaN     NaN      New Service          Ethernet   \n",
       "1             NaN     NaN      New Service          Ethernet   \n",
       "2             NaN     NaN      New Service          Ethernet   \n",
       "3             NaN     NaN      New Service          Ethernet   \n",
       "4             NaN     NaN      New Service          Ethernet   \n",
       "\n",
       "            ...           State Postal Code Latitude_bldgs Longitude_bldgs  \\\n",
       "0           ...              GA       30309      33.783427      -84.388557   \n",
       "1           ...              GA       30309      33.783427      -84.388557   \n",
       "2           ...              GA       30309      33.783427      -84.388557   \n",
       "3           ...              GA       30309      33.783427      -84.388557   \n",
       "4           ...              GA       30309      33.783427      -84.388557   \n",
       "\n",
       "  On Zayo Network Status  Net Classification                 Type  \\\n",
       "0        On Zayo Network              On-Net  Neutral Data Center   \n",
       "1        On Zayo Network              On-Net  Neutral Data Center   \n",
       "2        On Zayo Network              On-Net  Neutral Data Center   \n",
       "3        On Zayo Network              On-Net  Neutral Data Center   \n",
       "4        On Zayo Network              On-Net  Neutral Data Center   \n",
       "\n",
       "  Network Proximity   Estimated Build Cost   IsCommittedProbability  \n",
       "0            185.76             $15,572.80                      0.0  \n",
       "1            185.76             $15,572.80                      0.0  \n",
       "2            185.76             $15,572.80                      0.0  \n",
       "3            185.76             $15,572.80                      0.0  \n",
       "4            185.76             $15,572.80                      0.1  \n",
       "\n",
       "[5 rows x 54 columns]"
      ]
     },
     "execution_count": 30,
     "metadata": {},
     "output_type": "execute_result"
    }
   ],
   "source": [
    "to_predict['IsCommittedProbability'] = [pred[1] for pred in test_predictions]\n",
    "to_predict.head()"
   ]
  },
  {
   "cell_type": "code",
   "execution_count": 28,
   "metadata": {
    "collapsed": false
   },
   "outputs": [
    {
     "name": "stdout",
     "output_type": "stream",
     "text": [
      "(877203, 877203)\n"
     ]
    }
   ],
   "source": [
    "print(len(to_predict), len(to_predict_filtered))"
   ]
  },
  {
   "cell_type": "code",
   "execution_count": 32,
   "metadata": {
    "collapsed": true
   },
   "outputs": [],
   "source": [
    "to_predict.to_csv(\"opp_working_data.csv\", sep =\",\")"
   ]
  },
  {
   "cell_type": "code",
   "execution_count": 37,
   "metadata": {
    "collapsed": false
   },
   "outputs": [
    {
     "data": {
      "text/plain": [
       "Index([u'StageName', u'IsClosed', u'IsWon', u'CreatedDate_opp',\n",
       "       u'Term in Months', u'Service', u'Opportunity Type',\n",
       "       u'Product Group_opp', u'Building ID_opp', u'Market_opp',\n",
       "       u'Street Address_opp', u'City_opp', u'State_opp', u'Postal Code_opp',\n",
       "       u'Network Proximity_opp', u'On Zayo Network Status_opp',\n",
       "       u'Latitude_opp', u'Longitude_opp', u'Industry', u'Vertical',\n",
       "       u' Total BRR ', u' AnnualRevenue ', u'NumberOfEmployees',\n",
       "       u' DandB Revenue ', u'DandB Total Employees', u'CreatedDate_cpqs',\n",
       "       u'Product Group_cpqs', u' X36 MRC List ', u' X36 NRR List ',\n",
       "       u' X36 NPV List ', u'Building ID_cpqs', u'Market_cpqs',\n",
       "       u'Street Address_cpqs', u'City_cpqs', u'State_cpqs',\n",
       "       u'Postal Code_cpqs', u'Network Proximity_cpqs',\n",
       "       u'On Zayo Network Status_cpqs', u'Building ID', u'Market',\n",
       "       u'Street Address', u'City', u'State', u'Postal Code', u'Latitude_bldgs',\n",
       "       u'Longitude_bldgs', u'On Zayo Network Status', u'Net Classification',\n",
       "       u'Type', u'Network Proximity', u' Estimated Build Cost '],\n",
       "      dtype='object')"
      ]
     },
     "execution_count": 37,
     "metadata": {},
     "output_type": "execute_result"
    }
   ],
   "source": [
    "to_predict_further_filtered = to_predict\n",
    "to_predict_further_filtered.columns[2:(len(to_predict_further_filtered.columns)-1)]"
   ]
  },
  {
   "cell_type": "code",
   "execution_count": 39,
   "metadata": {
    "collapsed": false
   },
   "outputs": [
    {
     "name": "stdout",
     "output_type": "stream",
     "text": [
      "Index([u'﻿Opportunity ID', u'Account ID', u'IsCommittedProbability'], dtype='object')\n"
     ]
    }
   ],
   "source": [
    "to_predict_further_filtered = to_predict_further_filtered.drop(to_predict_further_filtered.columns[2:(len(to_predict_further_filtered.columns)-1)], axis=1)\n",
    "print(to_predict_further_filtered.columns)\n",
    "to_predict_further_filtered.to_csv(\"random_forest/opp_working_data_filtered.csv\", sep =\",\")"
   ]
  },
  {
   "cell_type": "code",
   "execution_count": null,
   "metadata": {
    "collapsed": true
   },
   "outputs": [],
   "source": []
  }
 ],
 "metadata": {
  "kernelspec": {
   "display_name": "Python 2",
   "language": "python",
   "name": "python2"
  },
  "language_info": {
   "codemirror_mode": {
    "name": "ipython",
    "version": 2
   },
   "file_extension": ".py",
   "mimetype": "text/x-python",
   "name": "python",
   "nbconvert_exporter": "python",
   "pygments_lexer": "ipython2",
   "version": "2.7.12"
  }
 },
 "nbformat": 4,
 "nbformat_minor": 1
}
