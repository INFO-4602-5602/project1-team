{
 "cells": [
  {
   "cell_type": "code",
   "execution_count": 1,
   "metadata": {
    "collapsed": true
   },
   "outputs": [],
   "source": [
    "import pandas as pd\n",
    "import numpy as np\n",
    "import matplotlib.pyplot as plt\n",
    "%matplotlib inline"
   ]
  },
  {
   "cell_type": "code",
   "execution_count": 2,
   "metadata": {
    "collapsed": false
   },
   "outputs": [],
   "source": [
    "accts = pd.read_csv(\"ZayoHackathonData_Accounts.csv\", index_col=0)\n",
    "cpqs = pd.read_csv(\"ZayoHackathonData_CPQs.csv\", index_col=0)\n",
    "opps = pd.read_csv(\"ZayoHackathonData_Opportunities.csv\", index_col=0)\n",
    "#svcs = pd.read_csv(\"ZayoHackathonData_Services.csv\", index_col=0)\n",
    "#sts = pd.read_csv(\"ZayoHackathonData_Sites.csv\", index_col=0)\n",
    "bldgs = pd.read_csv(\"ZayoHackathonData_Buildings.csv\")"
   ]
  },
  {
   "cell_type": "code",
   "execution_count": 3,
   "metadata": {
    "collapsed": false
   },
   "outputs": [
    {
     "data": {
      "text/plain": [
       "array(['1 - Working', '2 - Best Case', '3 - Committed', '4 - Closed',\n",
       "       '5 - Accepted', 'Closed - Lost'], dtype=object)"
      ]
     },
     "execution_count": 3,
     "metadata": {},
     "output_type": "execute_result"
    }
   ],
   "source": [
    "#opps.columns\n",
    "np.unique(opps['StageName'])"
   ]
  },
  {
   "cell_type": "code",
   "execution_count": 4,
   "metadata": {
    "collapsed": false
   },
   "outputs": [
    {
     "name": "stderr",
     "output_type": "stream",
     "text": [
      "/usr/local/lib/python2.7/site-packages/ipykernel/__main__.py:5: SettingWithCopyWarning: \n",
      "A value is trying to be set on a copy of a slice from a DataFrame.\n",
      "Try using .loc[row_indexer,col_indexer] = value instead\n",
      "\n",
      "See the caveats in the documentation: http://pandas.pydata.org/pandas-docs/stable/indexing.html#indexing-view-versus-copy\n"
     ]
    }
   ],
   "source": [
    "# Add a new column corresponding to whether or not the opportunity is close to being closed\n",
    "to_predict = opps[(opps[\"StageName\"] == \"1 - Working\") | (opps['StageName'] ==\" 2 - Best Case\")]\n",
    "opp = opps[(opps[\"StageName\"] == \"3 - Committed\") | (opps['StageName'] == \"4 - Closed\") | (opps['StageName'] == \"5 - Accepted\") | (opps['StageName'] == \"Closed - Lost\")]\n",
    "\n",
    "opp['IsCommitted'] = [row['StageName'] in [\"3 - Committed\", \"4 - Closed\", \"5 - Accepted\"] for i, row in opp.iterrows()]"
   ]
  },
  {
   "cell_type": "code",
   "execution_count": 5,
   "metadata": {
    "collapsed": false
   },
   "outputs": [
    {
     "data": {
      "text/plain": [
       "Index([u'Account ID', u'CreatedDate', u'Product Group', u' X36 MRC List ',\n",
       "       u' X36 NRR List ', u' X36 NPV List ', u'Building ID', u'Market',\n",
       "       u'Street Address', u'City', u'State', u'Postal Code',\n",
       "       u'Network Proximity', u'On Zayo Network Status'],\n",
       "      dtype='object')"
      ]
     },
     "execution_count": 5,
     "metadata": {},
     "output_type": "execute_result"
    }
   ],
   "source": [
    "cpqs.columns"
   ]
  },
  {
   "cell_type": "code",
   "execution_count": 6,
   "metadata": {
    "collapsed": false
   },
   "outputs": [
    {
     "name": "stdout",
     "output_type": "stream",
     "text": [
      "Index([u'IsCommitted'], dtype='object')\n"
     ]
    }
   ],
   "source": [
    "to_predict = to_predict.merge(accts, left_on = to_predict.columns[1], right_on = accts.columns[0], how = 'left', suffixes = ['_opp', '_accts'])\n",
    "opp = opp.merge(accts, left_on = opp.columns[1], right_on = accts.columns[0], how = 'left', suffixes = ['_opp', '_accts'])\n",
    "print(opp.columns.difference(to_predict.columns))"
   ]
  },
  {
   "cell_type": "code",
   "execution_count": 7,
   "metadata": {
    "collapsed": false
   },
   "outputs": [
    {
     "name": "stdout",
     "output_type": "stream",
     "text": [
      "Index([u'IsCommitted'], dtype='object')\n"
     ]
    }
   ],
   "source": [
    "to_predict = to_predict.merge(cpqs, left_on = to_predict.columns[1], right_on = cpqs.columns[0], how = 'left', suffixes = ['_opp', '_cpqs'])\n",
    "opp = opp.merge(cpqs, left_on = opp.columns[1], right_on = cpqs.columns[0], how = 'left', suffixes = ['_opp', '_cpqs'])\n",
    "print(opp.columns.difference(to_predict.columns))"
   ]
  },
  {
   "cell_type": "code",
   "execution_count": 8,
   "metadata": {
    "collapsed": false
   },
   "outputs": [
    {
     "name": "stdout",
     "output_type": "stream",
     "text": [
      "Index([u'IsCommitted'], dtype='object')\n"
     ]
    }
   ],
   "source": [
    "to_predict = to_predict.merge(bldgs, left_on = to_predict.columns[10], right_on = bldgs.columns[0], how = 'left', suffixes = ['_opp', '_bldgs'])\n",
    "opp = opp.merge(bldgs, left_on = opp.columns[10], right_on = bldgs.columns[0], how = 'left', suffixes = ['_opp', '_bldgs'])\n",
    "print(opp.columns.difference(to_predict.columns))"
   ]
  },
  {
   "cell_type": "code",
   "execution_count": 9,
   "metadata": {
    "collapsed": false
   },
   "outputs": [
    {
     "data": {
      "text/plain": [
       "Index([u'•ÈÀOpportunity ID', u'Account ID', u'StageName', u'IsClosed',\n",
       "       u'IsWon', u'CreatedDate_opp', u'Term in Months', u'Service',\n",
       "       u'Opportunity Type', u'Product Group_opp', u'Building ID_opp',\n",
       "       u'Market_opp', u'Street Address_opp', u'City_opp', u'State_opp',\n",
       "       u'Postal Code_opp', u'Network Proximity_opp',\n",
       "       u'On Zayo Network Status_opp', u'Latitude_opp', u'Longitude_opp',\n",
       "       u'IsCommitted', u'Industry', u'Vertical', u' Total BRR ',\n",
       "       u' AnnualRevenue ', u'NumberOfEmployees', u' DandB Revenue ',\n",
       "       u'DandB Total Employees', u'CreatedDate_cpqs', u'Product Group_cpqs',\n",
       "       u' X36 MRC List ', u' X36 NRR List ', u' X36 NPV List ',\n",
       "       u'Building ID_cpqs', u'Market_cpqs', u'Street Address_cpqs',\n",
       "       u'City_cpqs', u'State_cpqs', u'Postal Code_cpqs',\n",
       "       u'Network Proximity_cpqs', u'On Zayo Network Status_cpqs',\n",
       "       u'Building ID', u'Market', u'Street Address', u'City', u'State',\n",
       "       u'Postal Code', u'Latitude_bldgs', u'Longitude_bldgs',\n",
       "       u'On Zayo Network Status', u'Net Classification', u'Type',\n",
       "       u'Network Proximity', u' Estimated Build Cost '],\n",
       "      dtype='object')"
      ]
     },
     "execution_count": 9,
     "metadata": {},
     "output_type": "execute_result"
    }
   ],
   "source": [
    "#opp['Market'].tail()\n",
    "opp.columns"
   ]
  },
  {
   "cell_type": "markdown",
   "metadata": {},
   "source": [
    "## Data Preprocessing"
   ]
  },
  {
   "cell_type": "code",
   "execution_count": 10,
   "metadata": {
    "collapsed": false
   },
   "outputs": [
    {
     "data": {
      "text/plain": [
       "Index([u'Term in Months', u'Opportunity Type', u'Product Group_opp',\n",
       "       u'IsCommitted', u'Industry', u'Vertical', u' Total BRR ',\n",
       "       u' AnnualRevenue ', u'NumberOfEmployees', u' DandB Revenue ',\n",
       "       u'DandB Total Employees', u' X36 MRC List ', u' X36 NRR List ',\n",
       "       u' X36 NPV List ', u'Market', u'City', u'State', u'Postal Code',\n",
       "       u'On Zayo Network Status', u'Net Classification', u'Type',\n",
       "       u'Network Proximity', u' Estimated Build Cost '],\n",
       "      dtype='object')"
      ]
     },
     "execution_count": 10,
     "metadata": {},
     "output_type": "execute_result"
    }
   ],
   "source": [
    "opp_filtered = opp.drop([opp.columns[0], opp.columns[1], opp.columns[2], opp.columns[3], opp.columns[4], opp.columns[7], \n",
    "                         opp.columns[5], opp.columns[10], opp.columns[11], opp.columns[12], opp.columns[18],\n",
    "                         opp.columns[13], opp.columns[14], opp.columns[15], opp.columns[16], opp.columns[17], \n",
    "                         opp.columns[19], opp.columns[28], opp.columns[29], opp.columns[33], opp.columns[34], \n",
    "                         opp.columns[35], opp.columns[36], opp.columns[37], opp.columns[38], opp.columns[39], \n",
    "                         opp.columns[40], opp.columns[41], opp.columns[43], opp.columns[47], opp.columns[48]], axis=1)\n",
    "opp_filtered.columns"
   ]
  },
  {
   "cell_type": "code",
   "execution_count": 11,
   "metadata": {
    "collapsed": false
   },
   "outputs": [
    {
     "data": {
      "text/plain": [
       "Index([u'Term in Months', u'Opportunity Type', u'Product Group_opp',\n",
       "       u'Industry', u'Vertical', u' Total BRR ', u' AnnualRevenue ',\n",
       "       u'NumberOfEmployees', u' DandB Revenue ', u'DandB Total Employees',\n",
       "       u' X36 MRC List ', u' X36 NRR List ', u' X36 NPV List ', u'Market',\n",
       "       u'City', u'State', u'Postal Code', u'On Zayo Network Status',\n",
       "       u'Net Classification', u'Type', u'Network Proximity',\n",
       "       u' Estimated Build Cost '],\n",
       "      dtype='object')"
      ]
     },
     "execution_count": 11,
     "metadata": {},
     "output_type": "execute_result"
    }
   ],
   "source": [
    "to_predict_filtered = to_predict.drop([opp.columns[0], opp.columns[1], opp.columns[2], opp.columns[3], opp.columns[4], opp.columns[7], \n",
    "                         opp.columns[5], opp.columns[10], opp.columns[11], opp.columns[12], opp.columns[18],\n",
    "                         opp.columns[13], opp.columns[14], opp.columns[15], opp.columns[16], opp.columns[17], \n",
    "                         opp.columns[19], opp.columns[28], opp.columns[29], opp.columns[33], opp.columns[34], \n",
    "                         opp.columns[35], opp.columns[36], opp.columns[37], opp.columns[38], opp.columns[39], \n",
    "                         opp.columns[40], opp.columns[41], opp.columns[43], opp.columns[47], opp.columns[48]], axis=1)\n",
    "to_predict_filtered.columns"
   ]
  },
  {
   "cell_type": "code",
   "execution_count": 12,
   "metadata": {
    "collapsed": false
   },
   "outputs": [
    {
     "name": "stdout",
     "output_type": "stream",
     "text": [
      "(22, 23)\n"
     ]
    }
   ],
   "source": [
    "print(len(to_predict_filtered.columns), len(opp_filtered.columns))"
   ]
  },
  {
   "cell_type": "code",
   "execution_count": 13,
   "metadata": {
    "collapsed": false
   },
   "outputs": [
    {
     "name": "stderr",
     "output_type": "stream",
     "text": [
      "/usr/local/lib/python2.7/site-packages/ipykernel/__main__.py:1: FutureWarning: using '-' to provide set differences with Indexes is deprecated, use .difference()\n",
      "  if __name__ == '__main__':\n"
     ]
    },
    {
     "data": {
      "text/html": [
       "<div>\n",
       "<table border=\"1\" class=\"dataframe\">\n",
       "  <thead>\n",
       "    <tr style=\"text-align: right;\">\n",
       "      <th></th>\n",
       "      <th>AnnualRevenue</th>\n",
       "      <th>DandB Revenue</th>\n",
       "      <th>Estimated Build Cost</th>\n",
       "      <th>Total BRR</th>\n",
       "      <th>X36 MRC List</th>\n",
       "      <th>X36 NPV List</th>\n",
       "      <th>X36 NRR List</th>\n",
       "      <th>City</th>\n",
       "      <th>DandB Total Employees</th>\n",
       "      <th>Industry</th>\n",
       "      <th>...</th>\n",
       "      <th>Network Proximity</th>\n",
       "      <th>NumberOfEmployees</th>\n",
       "      <th>On Zayo Network Status</th>\n",
       "      <th>Opportunity Type</th>\n",
       "      <th>Postal Code</th>\n",
       "      <th>Product Group_opp</th>\n",
       "      <th>State</th>\n",
       "      <th>Term in Months</th>\n",
       "      <th>Type</th>\n",
       "      <th>Vertical</th>\n",
       "    </tr>\n",
       "  </thead>\n",
       "  <tbody>\n",
       "    <tr>\n",
       "      <th>723987</th>\n",
       "      <td>NaN</td>\n",
       "      <td>NaN</td>\n",
       "      <td>$27,768.50</td>\n",
       "      <td>NaN</td>\n",
       "      <td>$576.25</td>\n",
       "      <td>$13,889.20</td>\n",
       "      <td>$-</td>\n",
       "      <td>Carrollton</td>\n",
       "      <td>NaN</td>\n",
       "      <td>NaN</td>\n",
       "      <td>...</td>\n",
       "      <td>630.74</td>\n",
       "      <td>NaN</td>\n",
       "      <td>On Zayo Network</td>\n",
       "      <td>New Service</td>\n",
       "      <td>75007</td>\n",
       "      <td>Ethernet</td>\n",
       "      <td>TX</td>\n",
       "      <td>36.0</td>\n",
       "      <td>Neutral Data Center</td>\n",
       "      <td>NaN</td>\n",
       "    </tr>\n",
       "    <tr>\n",
       "      <th>723988</th>\n",
       "      <td>NaN</td>\n",
       "      <td>NaN</td>\n",
       "      <td>$27,768.50</td>\n",
       "      <td>NaN</td>\n",
       "      <td>$2,416.51</td>\n",
       "      <td>$20,340.23</td>\n",
       "      <td>$2,766.00</td>\n",
       "      <td>Carrollton</td>\n",
       "      <td>NaN</td>\n",
       "      <td>NaN</td>\n",
       "      <td>...</td>\n",
       "      <td>630.74</td>\n",
       "      <td>NaN</td>\n",
       "      <td>On Zayo Network</td>\n",
       "      <td>New Service</td>\n",
       "      <td>75007</td>\n",
       "      <td>Ethernet</td>\n",
       "      <td>TX</td>\n",
       "      <td>36.0</td>\n",
       "      <td>Neutral Data Center</td>\n",
       "      <td>NaN</td>\n",
       "    </tr>\n",
       "    <tr>\n",
       "      <th>723989</th>\n",
       "      <td>NaN</td>\n",
       "      <td>NaN</td>\n",
       "      <td>$27,768.50</td>\n",
       "      <td>NaN</td>\n",
       "      <td>$5,106.28</td>\n",
       "      <td>$44,056.87</td>\n",
       "      <td>$2,766.00</td>\n",
       "      <td>Carrollton</td>\n",
       "      <td>NaN</td>\n",
       "      <td>NaN</td>\n",
       "      <td>...</td>\n",
       "      <td>630.74</td>\n",
       "      <td>NaN</td>\n",
       "      <td>On Zayo Network</td>\n",
       "      <td>New Service</td>\n",
       "      <td>75007</td>\n",
       "      <td>Ethernet</td>\n",
       "      <td>TX</td>\n",
       "      <td>36.0</td>\n",
       "      <td>Neutral Data Center</td>\n",
       "      <td>NaN</td>\n",
       "    </tr>\n",
       "    <tr>\n",
       "      <th>723990</th>\n",
       "      <td>NaN</td>\n",
       "      <td>NaN</td>\n",
       "      <td>$27,768.50</td>\n",
       "      <td>NaN</td>\n",
       "      <td>$5,106.28</td>\n",
       "      <td>$44,056.87</td>\n",
       "      <td>$2,766.00</td>\n",
       "      <td>Carrollton</td>\n",
       "      <td>NaN</td>\n",
       "      <td>NaN</td>\n",
       "      <td>...</td>\n",
       "      <td>630.74</td>\n",
       "      <td>NaN</td>\n",
       "      <td>On Zayo Network</td>\n",
       "      <td>New Service</td>\n",
       "      <td>75007</td>\n",
       "      <td>Ethernet</td>\n",
       "      <td>TX</td>\n",
       "      <td>36.0</td>\n",
       "      <td>Neutral Data Center</td>\n",
       "      <td>NaN</td>\n",
       "    </tr>\n",
       "    <tr>\n",
       "      <th>723991</th>\n",
       "      <td>NaN</td>\n",
       "      <td>NaN</td>\n",
       "      <td>$219,671.50</td>\n",
       "      <td>NaN</td>\n",
       "      <td>$1,664.05</td>\n",
       "      <td>$12,181.69</td>\n",
       "      <td>$922.00</td>\n",
       "      <td>Arvada</td>\n",
       "      <td>NaN</td>\n",
       "      <td>NaN</td>\n",
       "      <td>...</td>\n",
       "      <td>6909.05</td>\n",
       "      <td>NaN</td>\n",
       "      <td>Not on Zayo Network</td>\n",
       "      <td>New Service</td>\n",
       "      <td>80004</td>\n",
       "      <td>Ethernet</td>\n",
       "      <td>CO</td>\n",
       "      <td>36.0</td>\n",
       "      <td>Private Data Center</td>\n",
       "      <td>NaN</td>\n",
       "    </tr>\n",
       "  </tbody>\n",
       "</table>\n",
       "<p>5 rows × 22 columns</p>\n",
       "</div>"
      ],
      "text/plain": [
       "        AnnualRevenue   DandB Revenue   Estimated Build Cost   Total BRR   \\\n",
       "723987             NaN             NaN            $27,768.50          NaN   \n",
       "723988             NaN             NaN            $27,768.50          NaN   \n",
       "723989             NaN             NaN            $27,768.50          NaN   \n",
       "723990             NaN             NaN            $27,768.50          NaN   \n",
       "723991             NaN             NaN           $219,671.50          NaN   \n",
       "\n",
       "        X36 MRC List   X36 NPV List   X36 NRR List         City  \\\n",
       "723987       $576.25     $13,889.20           $-     Carrollton   \n",
       "723988     $2,416.51     $20,340.23      $2,766.00   Carrollton   \n",
       "723989     $5,106.28     $44,056.87      $2,766.00   Carrollton   \n",
       "723990     $5,106.28     $44,056.87      $2,766.00   Carrollton   \n",
       "723991     $1,664.05     $12,181.69        $922.00       Arvada   \n",
       "\n",
       "        DandB Total Employees Industry    ...    Network Proximity  \\\n",
       "723987                    NaN      NaN    ...               630.74   \n",
       "723988                    NaN      NaN    ...               630.74   \n",
       "723989                    NaN      NaN    ...               630.74   \n",
       "723990                    NaN      NaN    ...               630.74   \n",
       "723991                    NaN      NaN    ...              6909.05   \n",
       "\n",
       "       NumberOfEmployees  On Zayo Network Status  Opportunity Type  \\\n",
       "723987               NaN         On Zayo Network       New Service   \n",
       "723988               NaN         On Zayo Network       New Service   \n",
       "723989               NaN         On Zayo Network       New Service   \n",
       "723990               NaN         On Zayo Network       New Service   \n",
       "723991               NaN     Not on Zayo Network       New Service   \n",
       "\n",
       "       Postal Code Product Group_opp State Term in Months  \\\n",
       "723987       75007          Ethernet    TX           36.0   \n",
       "723988       75007          Ethernet    TX           36.0   \n",
       "723989       75007          Ethernet    TX           36.0   \n",
       "723990       75007          Ethernet    TX           36.0   \n",
       "723991       80004          Ethernet    CO           36.0   \n",
       "\n",
       "                       Type  Vertical  \n",
       "723987  Neutral Data Center       NaN  \n",
       "723988  Neutral Data Center       NaN  \n",
       "723989  Neutral Data Center       NaN  \n",
       "723990  Neutral Data Center       NaN  \n",
       "723991  Private Data Center       NaN  \n",
       "\n",
       "[5 rows x 22 columns]"
      ]
     },
     "execution_count": 13,
     "metadata": {},
     "output_type": "execute_result"
    }
   ],
   "source": [
    "features = opp_filtered.columns - [u'IsCommitted']\n",
    "prediction = [u'IsCommitted']\n",
    "\n",
    "opp_filtered[features].tail()"
   ]
  },
  {
   "cell_type": "code",
   "execution_count": 14,
   "metadata": {
    "collapsed": false
   },
   "outputs": [
    {
     "data": {
      "text/html": [
       "<div>\n",
       "<table border=\"1\" class=\"dataframe\">\n",
       "  <thead>\n",
       "    <tr style=\"text-align: right;\">\n",
       "      <th></th>\n",
       "      <th>AnnualRevenue</th>\n",
       "      <th>DandB Revenue</th>\n",
       "      <th>Estimated Build Cost</th>\n",
       "      <th>Total BRR</th>\n",
       "      <th>X36 MRC List</th>\n",
       "      <th>X36 NPV List</th>\n",
       "      <th>X36 NRR List</th>\n",
       "      <th>City</th>\n",
       "      <th>DandB Total Employees</th>\n",
       "      <th>Industry</th>\n",
       "      <th>...</th>\n",
       "      <th>Network Proximity</th>\n",
       "      <th>NumberOfEmployees</th>\n",
       "      <th>On Zayo Network Status</th>\n",
       "      <th>Opportunity Type</th>\n",
       "      <th>Postal Code</th>\n",
       "      <th>Product Group_opp</th>\n",
       "      <th>State</th>\n",
       "      <th>Term in Months</th>\n",
       "      <th>Type</th>\n",
       "      <th>Vertical</th>\n",
       "    </tr>\n",
       "  </thead>\n",
       "  <tbody>\n",
       "    <tr>\n",
       "      <th>723987</th>\n",
       "      <td>NaN</td>\n",
       "      <td>NaN</td>\n",
       "      <td>27768.5</td>\n",
       "      <td>NaN</td>\n",
       "      <td>576.25</td>\n",
       "      <td>13889.20</td>\n",
       "      <td>0.0</td>\n",
       "      <td>Carrollton</td>\n",
       "      <td>NaN</td>\n",
       "      <td>NaN</td>\n",
       "      <td>...</td>\n",
       "      <td>630.74</td>\n",
       "      <td>NaN</td>\n",
       "      <td>On Zayo Network</td>\n",
       "      <td>New Service</td>\n",
       "      <td>75007</td>\n",
       "      <td>Ethernet</td>\n",
       "      <td>TX</td>\n",
       "      <td>36.0</td>\n",
       "      <td>Neutral Data Center</td>\n",
       "      <td>NaN</td>\n",
       "    </tr>\n",
       "    <tr>\n",
       "      <th>723988</th>\n",
       "      <td>NaN</td>\n",
       "      <td>NaN</td>\n",
       "      <td>27768.5</td>\n",
       "      <td>NaN</td>\n",
       "      <td>2416.51</td>\n",
       "      <td>20340.23</td>\n",
       "      <td>2766.0</td>\n",
       "      <td>Carrollton</td>\n",
       "      <td>NaN</td>\n",
       "      <td>NaN</td>\n",
       "      <td>...</td>\n",
       "      <td>630.74</td>\n",
       "      <td>NaN</td>\n",
       "      <td>On Zayo Network</td>\n",
       "      <td>New Service</td>\n",
       "      <td>75007</td>\n",
       "      <td>Ethernet</td>\n",
       "      <td>TX</td>\n",
       "      <td>36.0</td>\n",
       "      <td>Neutral Data Center</td>\n",
       "      <td>NaN</td>\n",
       "    </tr>\n",
       "    <tr>\n",
       "      <th>723989</th>\n",
       "      <td>NaN</td>\n",
       "      <td>NaN</td>\n",
       "      <td>27768.5</td>\n",
       "      <td>NaN</td>\n",
       "      <td>5106.28</td>\n",
       "      <td>44056.87</td>\n",
       "      <td>2766.0</td>\n",
       "      <td>Carrollton</td>\n",
       "      <td>NaN</td>\n",
       "      <td>NaN</td>\n",
       "      <td>...</td>\n",
       "      <td>630.74</td>\n",
       "      <td>NaN</td>\n",
       "      <td>On Zayo Network</td>\n",
       "      <td>New Service</td>\n",
       "      <td>75007</td>\n",
       "      <td>Ethernet</td>\n",
       "      <td>TX</td>\n",
       "      <td>36.0</td>\n",
       "      <td>Neutral Data Center</td>\n",
       "      <td>NaN</td>\n",
       "    </tr>\n",
       "    <tr>\n",
       "      <th>723990</th>\n",
       "      <td>NaN</td>\n",
       "      <td>NaN</td>\n",
       "      <td>27768.5</td>\n",
       "      <td>NaN</td>\n",
       "      <td>5106.28</td>\n",
       "      <td>44056.87</td>\n",
       "      <td>2766.0</td>\n",
       "      <td>Carrollton</td>\n",
       "      <td>NaN</td>\n",
       "      <td>NaN</td>\n",
       "      <td>...</td>\n",
       "      <td>630.74</td>\n",
       "      <td>NaN</td>\n",
       "      <td>On Zayo Network</td>\n",
       "      <td>New Service</td>\n",
       "      <td>75007</td>\n",
       "      <td>Ethernet</td>\n",
       "      <td>TX</td>\n",
       "      <td>36.0</td>\n",
       "      <td>Neutral Data Center</td>\n",
       "      <td>NaN</td>\n",
       "    </tr>\n",
       "    <tr>\n",
       "      <th>723991</th>\n",
       "      <td>NaN</td>\n",
       "      <td>NaN</td>\n",
       "      <td>219671.5</td>\n",
       "      <td>NaN</td>\n",
       "      <td>1664.05</td>\n",
       "      <td>12181.69</td>\n",
       "      <td>922.0</td>\n",
       "      <td>Arvada</td>\n",
       "      <td>NaN</td>\n",
       "      <td>NaN</td>\n",
       "      <td>...</td>\n",
       "      <td>6909.05</td>\n",
       "      <td>NaN</td>\n",
       "      <td>Not on Zayo Network</td>\n",
       "      <td>New Service</td>\n",
       "      <td>80004</td>\n",
       "      <td>Ethernet</td>\n",
       "      <td>CO</td>\n",
       "      <td>36.0</td>\n",
       "      <td>Private Data Center</td>\n",
       "      <td>NaN</td>\n",
       "    </tr>\n",
       "  </tbody>\n",
       "</table>\n",
       "<p>5 rows × 22 columns</p>\n",
       "</div>"
      ],
      "text/plain": [
       "         AnnualRevenue    DandB Revenue    Estimated Build Cost    Total BRR   \\\n",
       "723987              NaN              NaN                 27768.5          NaN   \n",
       "723988              NaN              NaN                 27768.5          NaN   \n",
       "723989              NaN              NaN                 27768.5          NaN   \n",
       "723990              NaN              NaN                 27768.5          NaN   \n",
       "723991              NaN              NaN                219671.5          NaN   \n",
       "\n",
       "         X36 MRC List    X36 NPV List    X36 NRR List         City  \\\n",
       "723987          576.25        13889.20             0.0  Carrollton   \n",
       "723988         2416.51        20340.23          2766.0  Carrollton   \n",
       "723989         5106.28        44056.87          2766.0  Carrollton   \n",
       "723990         5106.28        44056.87          2766.0  Carrollton   \n",
       "723991         1664.05        12181.69           922.0      Arvada   \n",
       "\n",
       "        DandB Total Employees Industry    ...    Network Proximity  \\\n",
       "723987                    NaN      NaN    ...               630.74   \n",
       "723988                    NaN      NaN    ...               630.74   \n",
       "723989                    NaN      NaN    ...               630.74   \n",
       "723990                    NaN      NaN    ...               630.74   \n",
       "723991                    NaN      NaN    ...              6909.05   \n",
       "\n",
       "       NumberOfEmployees  On Zayo Network Status  Opportunity Type  \\\n",
       "723987               NaN         On Zayo Network       New Service   \n",
       "723988               NaN         On Zayo Network       New Service   \n",
       "723989               NaN         On Zayo Network       New Service   \n",
       "723990               NaN         On Zayo Network       New Service   \n",
       "723991               NaN     Not on Zayo Network       New Service   \n",
       "\n",
       "       Postal Code Product Group_opp State Term in Months  \\\n",
       "723987       75007          Ethernet    TX           36.0   \n",
       "723988       75007          Ethernet    TX           36.0   \n",
       "723989       75007          Ethernet    TX           36.0   \n",
       "723990       75007          Ethernet    TX           36.0   \n",
       "723991       80004          Ethernet    CO           36.0   \n",
       "\n",
       "                       Type  Vertical  \n",
       "723987  Neutral Data Center       NaN  \n",
       "723988  Neutral Data Center       NaN  \n",
       "723989  Neutral Data Center       NaN  \n",
       "723990  Neutral Data Center       NaN  \n",
       "723991  Private Data Center       NaN  \n",
       "\n",
       "[5 rows x 22 columns]"
      ]
     },
     "execution_count": 14,
     "metadata": {},
     "output_type": "execute_result"
    }
   ],
   "source": [
    "# First let's convert any dollar amounts to floats\n",
    "to_predict_filtered[[' AnnualRevenue ']] = to_predict_filtered[[' AnnualRevenue ']].replace('[\\$,]','',regex=True).replace('[\\-]','0',regex=True).astype(float)\n",
    "to_predict_filtered[[' DandB Revenue ']] = to_predict_filtered[[' DandB Revenue ']].replace('[\\$,]','',regex=True).replace('[\\-]','0',regex=True).astype(float)\n",
    "to_predict_filtered[[' Estimated Build Cost ']] = to_predict_filtered[[' Estimated Build Cost ']].replace('[\\$,]','',regex=True).astype(float)\n",
    "to_predict_filtered[[' Total BRR ']] = to_predict_filtered[[' Total BRR ']].replace('[\\$,]','',regex=True).replace('[\\-]','0',regex=True).astype(float)\n",
    "to_predict_filtered[[' X36 MRC List ']] = to_predict_filtered[[' X36 MRC List ']].replace('[\\$,]','',regex=True).replace('[\\-]','0',regex=True).astype(float)\n",
    "to_predict_filtered[[' X36 NPV List ']] = to_predict_filtered[[' X36 NPV List ']].replace('[\\$,]','',regex=True).replace('[\\-]','0',regex=True).astype(float)\n",
    "to_predict_filtered[[' X36 NRR List ']] = to_predict_filtered[[' X36 NRR List ']].replace('[\\$,]','',regex=True).replace('[\\-]','0',regex=True).astype(float)\n",
    "to_predict_filtered[features].tail()\n",
    "\n",
    "opp_filtered[[' AnnualRevenue ']] = opp_filtered[[' AnnualRevenue ']].replace('[\\$,]','',regex=True).replace('[\\-]','0',regex=True).astype(float)\n",
    "opp_filtered[[' DandB Revenue ']] = opp_filtered[[' DandB Revenue ']].replace('[\\$,]','',regex=True).replace('[\\-]','0',regex=True).astype(float)\n",
    "opp_filtered[[' Estimated Build Cost ']] = opp_filtered[[' Estimated Build Cost ']].replace('[\\$,]','',regex=True).astype(float)\n",
    "opp_filtered[[' Total BRR ']] = opp_filtered[[' Total BRR ']].replace('[\\$,]','',regex=True).replace('[\\-]','0',regex=True).astype(float)\n",
    "opp_filtered[[' X36 MRC List ']] = opp_filtered[[' X36 MRC List ']].replace('[\\$,]','',regex=True).replace('[\\-]','0',regex=True).astype(float)\n",
    "opp_filtered[[' X36 NPV List ']] = opp_filtered[[' X36 NPV List ']].replace('[\\$,]','',regex=True).replace('[\\-]','0',regex=True).astype(float)\n",
    "opp_filtered[[' X36 NRR List ']] = opp_filtered[[' X36 NRR List ']].replace('[\\$,]','',regex=True).replace('[\\-]','0',regex=True).astype(float)\n",
    "\n",
    "opp_filtered[features].tail()"
   ]
  },
  {
   "cell_type": "code",
   "execution_count": 15,
   "metadata": {
    "collapsed": false
   },
   "outputs": [
    {
     "name": "stdout",
     "output_type": "stream",
     "text": [
      "City\n",
      "Industry\n",
      "Market\n",
      "Net Classification\n",
      "On Zayo Network Status\n",
      "Opportunity Type\n",
      "Postal Code\n",
      "Product Group_opp\n",
      "State\n",
      "Type\n",
      "Vertical\n"
     ]
    }
   ],
   "source": [
    "from sklearn import preprocessing\n",
    "\n",
    "# Sklearn's decision trees do not like features which are strings. We need \n",
    "# to convert any features which are strings into numerical values. We'll use\n",
    "# Sklearn's built in label encoding. We'll store these encoders for our \n",
    "# understanding later.\n",
    "\n",
    "le = {}\n",
    "\n",
    "for feature in features:\n",
    "    #print feature\n",
    "    if opp_filtered[feature].dtype == np.float64 or opp_filtered[feature].dtype == np.int64:\n",
    "        opp_filtered[feature] = opp_filtered[feature].replace(np.nan, 0, regex=True)\n",
    "        to_predict_filtered[feature] = to_predict_filtered[feature].replace(np.nan, 0, regex=True)\n",
    "        continue\n",
    "    print feature\n",
    "    opp_filtered[feature] = opp_filtered[feature].replace(np.nan, u'NaN', regex=True)\n",
    "    to_predict_filtered[feature] = to_predict_filtered[feature].replace(np.nan, u'NaN', regex=True)\n",
    "    \n",
    "    le[feature] = preprocessing.LabelEncoder()\n",
    "    le[feature].fit(pd.concat([opp_filtered[feature], to_predict_filtered[feature]]))\n",
    "    #print le[feature].classes_\n",
    "\n",
    "    opp_filtered[feature] = [le[feature].transform([row])[0] for row in opp_filtered[feature]]\n",
    "    to_predict_filtered[feature] = [le[feature].transform([row])[0] for row in to_predict_filtered[feature]] "
   ]
  },
  {
   "cell_type": "code",
   "execution_count": 16,
   "metadata": {
    "collapsed": false
   },
   "outputs": [
    {
     "data": {
      "text/html": [
       "<div>\n",
       "<table border=\"1\" class=\"dataframe\">\n",
       "  <thead>\n",
       "    <tr style=\"text-align: right;\">\n",
       "      <th></th>\n",
       "      <th>Term in Months</th>\n",
       "      <th>Opportunity Type</th>\n",
       "      <th>Product Group_opp</th>\n",
       "      <th>IsCommitted</th>\n",
       "      <th>Industry</th>\n",
       "      <th>Vertical</th>\n",
       "      <th>Total BRR</th>\n",
       "      <th>AnnualRevenue</th>\n",
       "      <th>NumberOfEmployees</th>\n",
       "      <th>DandB Revenue</th>\n",
       "      <th>...</th>\n",
       "      <th>X36 NPV List</th>\n",
       "      <th>Market</th>\n",
       "      <th>City</th>\n",
       "      <th>State</th>\n",
       "      <th>Postal Code</th>\n",
       "      <th>On Zayo Network Status</th>\n",
       "      <th>Net Classification</th>\n",
       "      <th>Type</th>\n",
       "      <th>Network Proximity</th>\n",
       "      <th>Estimated Build Cost</th>\n",
       "    </tr>\n",
       "  </thead>\n",
       "  <tbody>\n",
       "    <tr>\n",
       "      <th>0</th>\n",
       "      <td>12.0</td>\n",
       "      <td>5</td>\n",
       "      <td>3</td>\n",
       "      <td>False</td>\n",
       "      <td>0</td>\n",
       "      <td>0</td>\n",
       "      <td>0.0</td>\n",
       "      <td>0.0</td>\n",
       "      <td>0.0</td>\n",
       "      <td>0.0</td>\n",
       "      <td>...</td>\n",
       "      <td>11560.17</td>\n",
       "      <td>0</td>\n",
       "      <td>8</td>\n",
       "      <td>1</td>\n",
       "      <td>56</td>\n",
       "      <td>2</td>\n",
       "      <td>1</td>\n",
       "      <td>1</td>\n",
       "      <td>66.45</td>\n",
       "      <td>11993.5</td>\n",
       "    </tr>\n",
       "    <tr>\n",
       "      <th>1</th>\n",
       "      <td>12.0</td>\n",
       "      <td>5</td>\n",
       "      <td>3</td>\n",
       "      <td>False</td>\n",
       "      <td>0</td>\n",
       "      <td>0</td>\n",
       "      <td>0.0</td>\n",
       "      <td>0.0</td>\n",
       "      <td>0.0</td>\n",
       "      <td>0.0</td>\n",
       "      <td>...</td>\n",
       "      <td>11560.17</td>\n",
       "      <td>0</td>\n",
       "      <td>8</td>\n",
       "      <td>1</td>\n",
       "      <td>56</td>\n",
       "      <td>2</td>\n",
       "      <td>1</td>\n",
       "      <td>1</td>\n",
       "      <td>66.45</td>\n",
       "      <td>11993.5</td>\n",
       "    </tr>\n",
       "    <tr>\n",
       "      <th>2</th>\n",
       "      <td>12.0</td>\n",
       "      <td>5</td>\n",
       "      <td>3</td>\n",
       "      <td>False</td>\n",
       "      <td>0</td>\n",
       "      <td>0</td>\n",
       "      <td>0.0</td>\n",
       "      <td>0.0</td>\n",
       "      <td>0.0</td>\n",
       "      <td>0.0</td>\n",
       "      <td>...</td>\n",
       "      <td>12843.38</td>\n",
       "      <td>0</td>\n",
       "      <td>8</td>\n",
       "      <td>1</td>\n",
       "      <td>56</td>\n",
       "      <td>2</td>\n",
       "      <td>1</td>\n",
       "      <td>1</td>\n",
       "      <td>66.45</td>\n",
       "      <td>11993.5</td>\n",
       "    </tr>\n",
       "    <tr>\n",
       "      <th>3</th>\n",
       "      <td>12.0</td>\n",
       "      <td>5</td>\n",
       "      <td>3</td>\n",
       "      <td>False</td>\n",
       "      <td>0</td>\n",
       "      <td>0</td>\n",
       "      <td>0.0</td>\n",
       "      <td>0.0</td>\n",
       "      <td>0.0</td>\n",
       "      <td>0.0</td>\n",
       "      <td>...</td>\n",
       "      <td>16611.38</td>\n",
       "      <td>0</td>\n",
       "      <td>8</td>\n",
       "      <td>1</td>\n",
       "      <td>56</td>\n",
       "      <td>2</td>\n",
       "      <td>1</td>\n",
       "      <td>1</td>\n",
       "      <td>66.45</td>\n",
       "      <td>11993.5</td>\n",
       "    </tr>\n",
       "    <tr>\n",
       "      <th>4</th>\n",
       "      <td>12.0</td>\n",
       "      <td>5</td>\n",
       "      <td>3</td>\n",
       "      <td>False</td>\n",
       "      <td>0</td>\n",
       "      <td>0</td>\n",
       "      <td>0.0</td>\n",
       "      <td>0.0</td>\n",
       "      <td>0.0</td>\n",
       "      <td>0.0</td>\n",
       "      <td>...</td>\n",
       "      <td>16611.38</td>\n",
       "      <td>0</td>\n",
       "      <td>8</td>\n",
       "      <td>1</td>\n",
       "      <td>56</td>\n",
       "      <td>2</td>\n",
       "      <td>1</td>\n",
       "      <td>1</td>\n",
       "      <td>66.45</td>\n",
       "      <td>11993.5</td>\n",
       "    </tr>\n",
       "  </tbody>\n",
       "</table>\n",
       "<p>5 rows × 23 columns</p>\n",
       "</div>"
      ],
      "text/plain": [
       "   Term in Months  Opportunity Type  Product Group_opp IsCommitted  Industry  \\\n",
       "0            12.0                 5                  3       False         0   \n",
       "1            12.0                 5                  3       False         0   \n",
       "2            12.0                 5                  3       False         0   \n",
       "3            12.0                 5                  3       False         0   \n",
       "4            12.0                 5                  3       False         0   \n",
       "\n",
       "   Vertical   Total BRR    AnnualRevenue   NumberOfEmployees   DandB Revenue   \\\n",
       "0         0          0.0              0.0                0.0              0.0   \n",
       "1         0          0.0              0.0                0.0              0.0   \n",
       "2         0          0.0              0.0                0.0              0.0   \n",
       "3         0          0.0              0.0                0.0              0.0   \n",
       "4         0          0.0              0.0                0.0              0.0   \n",
       "\n",
       "            ...             X36 NPV List   Market  City  State  Postal Code  \\\n",
       "0           ...                  11560.17       0     8      1           56   \n",
       "1           ...                  11560.17       0     8      1           56   \n",
       "2           ...                  12843.38       0     8      1           56   \n",
       "3           ...                  16611.38       0     8      1           56   \n",
       "4           ...                  16611.38       0     8      1           56   \n",
       "\n",
       "   On Zayo Network Status  Net Classification  Type  Network Proximity  \\\n",
       "0                       2                   1     1              66.45   \n",
       "1                       2                   1     1              66.45   \n",
       "2                       2                   1     1              66.45   \n",
       "3                       2                   1     1              66.45   \n",
       "4                       2                   1     1              66.45   \n",
       "\n",
       "    Estimated Build Cost   \n",
       "0                 11993.5  \n",
       "1                 11993.5  \n",
       "2                 11993.5  \n",
       "3                 11993.5  \n",
       "4                 11993.5  \n",
       "\n",
       "[5 rows x 23 columns]"
      ]
     },
     "execution_count": 16,
     "metadata": {},
     "output_type": "execute_result"
    }
   ],
   "source": [
    "opp_filtered.to_csv(\"opp_training_data.csv\", sep =\",\")\n",
    "opp_filtered.head()"
   ]
  },
  {
   "cell_type": "code",
   "execution_count": 17,
   "metadata": {
    "collapsed": false
   },
   "outputs": [
    {
     "data": {
      "text/html": [
       "<div>\n",
       "<table border=\"1\" class=\"dataframe\">\n",
       "  <thead>\n",
       "    <tr style=\"text-align: right;\">\n",
       "      <th></th>\n",
       "      <th>Term in Months</th>\n",
       "      <th>Opportunity Type</th>\n",
       "      <th>Product Group_opp</th>\n",
       "      <th>Industry</th>\n",
       "      <th>Vertical</th>\n",
       "      <th>Total BRR</th>\n",
       "      <th>AnnualRevenue</th>\n",
       "      <th>NumberOfEmployees</th>\n",
       "      <th>DandB Revenue</th>\n",
       "      <th>DandB Total Employees</th>\n",
       "      <th>...</th>\n",
       "      <th>X36 NPV List</th>\n",
       "      <th>Market</th>\n",
       "      <th>City</th>\n",
       "      <th>State</th>\n",
       "      <th>Postal Code</th>\n",
       "      <th>On Zayo Network Status</th>\n",
       "      <th>Net Classification</th>\n",
       "      <th>Type</th>\n",
       "      <th>Network Proximity</th>\n",
       "      <th>Estimated Build Cost</th>\n",
       "    </tr>\n",
       "  </thead>\n",
       "  <tbody>\n",
       "    <tr>\n",
       "      <th>0</th>\n",
       "      <td>0.0</td>\n",
       "      <td>5</td>\n",
       "      <td>3</td>\n",
       "      <td>0</td>\n",
       "      <td>0</td>\n",
       "      <td>0.0</td>\n",
       "      <td>0.0</td>\n",
       "      <td>0.0</td>\n",
       "      <td>0.0</td>\n",
       "      <td>0.0</td>\n",
       "      <td>...</td>\n",
       "      <td>14966.86</td>\n",
       "      <td>0</td>\n",
       "      <td>8</td>\n",
       "      <td>1</td>\n",
       "      <td>61</td>\n",
       "      <td>2</td>\n",
       "      <td>1</td>\n",
       "      <td>19</td>\n",
       "      <td>185.76</td>\n",
       "      <td>15572.8</td>\n",
       "    </tr>\n",
       "    <tr>\n",
       "      <th>1</th>\n",
       "      <td>0.0</td>\n",
       "      <td>5</td>\n",
       "      <td>3</td>\n",
       "      <td>0</td>\n",
       "      <td>0</td>\n",
       "      <td>0.0</td>\n",
       "      <td>0.0</td>\n",
       "      <td>0.0</td>\n",
       "      <td>0.0</td>\n",
       "      <td>0.0</td>\n",
       "      <td>...</td>\n",
       "      <td>14932.09</td>\n",
       "      <td>0</td>\n",
       "      <td>8</td>\n",
       "      <td>1</td>\n",
       "      <td>61</td>\n",
       "      <td>2</td>\n",
       "      <td>1</td>\n",
       "      <td>19</td>\n",
       "      <td>185.76</td>\n",
       "      <td>15572.8</td>\n",
       "    </tr>\n",
       "    <tr>\n",
       "      <th>2</th>\n",
       "      <td>0.0</td>\n",
       "      <td>5</td>\n",
       "      <td>3</td>\n",
       "      <td>0</td>\n",
       "      <td>0</td>\n",
       "      <td>0.0</td>\n",
       "      <td>0.0</td>\n",
       "      <td>0.0</td>\n",
       "      <td>0.0</td>\n",
       "      <td>0.0</td>\n",
       "      <td>...</td>\n",
       "      <td>17897.85</td>\n",
       "      <td>0</td>\n",
       "      <td>8</td>\n",
       "      <td>1</td>\n",
       "      <td>61</td>\n",
       "      <td>2</td>\n",
       "      <td>1</td>\n",
       "      <td>19</td>\n",
       "      <td>185.76</td>\n",
       "      <td>15572.8</td>\n",
       "    </tr>\n",
       "    <tr>\n",
       "      <th>3</th>\n",
       "      <td>0.0</td>\n",
       "      <td>5</td>\n",
       "      <td>3</td>\n",
       "      <td>0</td>\n",
       "      <td>0</td>\n",
       "      <td>0.0</td>\n",
       "      <td>0.0</td>\n",
       "      <td>0.0</td>\n",
       "      <td>0.0</td>\n",
       "      <td>0.0</td>\n",
       "      <td>...</td>\n",
       "      <td>10111.19</td>\n",
       "      <td>0</td>\n",
       "      <td>8</td>\n",
       "      <td>1</td>\n",
       "      <td>61</td>\n",
       "      <td>2</td>\n",
       "      <td>1</td>\n",
       "      <td>19</td>\n",
       "      <td>185.76</td>\n",
       "      <td>15572.8</td>\n",
       "    </tr>\n",
       "    <tr>\n",
       "      <th>4</th>\n",
       "      <td>0.0</td>\n",
       "      <td>5</td>\n",
       "      <td>3</td>\n",
       "      <td>0</td>\n",
       "      <td>0</td>\n",
       "      <td>0.0</td>\n",
       "      <td>0.0</td>\n",
       "      <td>0.0</td>\n",
       "      <td>0.0</td>\n",
       "      <td>0.0</td>\n",
       "      <td>...</td>\n",
       "      <td>113678.99</td>\n",
       "      <td>0</td>\n",
       "      <td>8</td>\n",
       "      <td>1</td>\n",
       "      <td>61</td>\n",
       "      <td>2</td>\n",
       "      <td>1</td>\n",
       "      <td>19</td>\n",
       "      <td>185.76</td>\n",
       "      <td>15572.8</td>\n",
       "    </tr>\n",
       "  </tbody>\n",
       "</table>\n",
       "<p>5 rows × 22 columns</p>\n",
       "</div>"
      ],
      "text/plain": [
       "   Term in Months  Opportunity Type  Product Group_opp  Industry  Vertical  \\\n",
       "0             0.0                 5                  3         0         0   \n",
       "1             0.0                 5                  3         0         0   \n",
       "2             0.0                 5                  3         0         0   \n",
       "3             0.0                 5                  3         0         0   \n",
       "4             0.0                 5                  3         0         0   \n",
       "\n",
       "    Total BRR    AnnualRevenue   NumberOfEmployees   DandB Revenue   \\\n",
       "0          0.0              0.0                0.0              0.0   \n",
       "1          0.0              0.0                0.0              0.0   \n",
       "2          0.0              0.0                0.0              0.0   \n",
       "3          0.0              0.0                0.0              0.0   \n",
       "4          0.0              0.0                0.0              0.0   \n",
       "\n",
       "   DandB Total Employees           ...             X36 NPV List   Market  \\\n",
       "0                    0.0           ...                  14966.86       0   \n",
       "1                    0.0           ...                  14932.09       0   \n",
       "2                    0.0           ...                  17897.85       0   \n",
       "3                    0.0           ...                  10111.19       0   \n",
       "4                    0.0           ...                 113678.99       0   \n",
       "\n",
       "   City  State  Postal Code  On Zayo Network Status  Net Classification  Type  \\\n",
       "0     8      1           61                       2                   1    19   \n",
       "1     8      1           61                       2                   1    19   \n",
       "2     8      1           61                       2                   1    19   \n",
       "3     8      1           61                       2                   1    19   \n",
       "4     8      1           61                       2                   1    19   \n",
       "\n",
       "   Network Proximity   Estimated Build Cost   \n",
       "0             185.76                 15572.8  \n",
       "1             185.76                 15572.8  \n",
       "2             185.76                 15572.8  \n",
       "3             185.76                 15572.8  \n",
       "4             185.76                 15572.8  \n",
       "\n",
       "[5 rows x 22 columns]"
      ]
     },
     "execution_count": 17,
     "metadata": {},
     "output_type": "execute_result"
    }
   ],
   "source": [
    "to_predict_filtered.to_csv(\"opp_test_data.csv\", sep =\",\")\n",
    "to_predict_filtered.head()"
   ]
  },
  {
   "cell_type": "code",
   "execution_count": 18,
   "metadata": {
    "collapsed": false
   },
   "outputs": [
    {
     "name": "stdout",
     "output_type": "stream",
     "text": [
      "['City', 'Vertical', 'Industry', 'Opportunity Type', 'On Zayo Network Status', 'State', 'Net Classification', 'Postal Code', 'Type', 'Market', 'Product Group_opp']\n"
     ]
    }
   ],
   "source": [
    "import pickle\n",
    "\n",
    "print(le.keys())\n",
    "\n",
    "with open('label_encoding.p', 'wb') as handle:\n",
    "    pickle.dump(le, handle)"
   ]
  },
  {
   "cell_type": "markdown",
   "metadata": {},
   "source": [
    "## Build a Random Forest"
   ]
  },
  {
   "cell_type": "code",
   "execution_count": 19,
   "metadata": {
    "collapsed": false
   },
   "outputs": [
    {
     "name": "stderr",
     "output_type": "stream",
     "text": [
      "/usr/local/lib/python2.7/site-packages/ipykernel/__main__.py:14: DataConversionWarning: A column-vector y was passed when a 1d array was expected. Please change the shape of y to (n_samples,), for example using ravel().\n"
     ]
    },
    {
     "name": "stdout",
     "output_type": "stream",
     "text": [
      "0.982769099021\n"
     ]
    }
   ],
   "source": [
    "# Decision trees can be prone to overfitting. Let's use a\n",
    "# random forest (a bunch of decision trees trained on \n",
    "# sub-samples of the data).\n",
    "\n",
    "from sklearn import ensemble\n",
    "\n",
    "clf = ensemble.RandomForestClassifier()\n",
    "fraction = 4.0/5.0\n",
    "shuffled = opp_filtered.sample(frac=1)\n",
    "\n",
    "trainX = shuffled[features][:int(round(fraction*len(shuffled)))].values\n",
    "trainY = shuffled[prediction][:int(round(fraction*len(shuffled)))].values\n",
    "\n",
    "clf = clf.fit(trainX, trainY)\n",
    "\n",
    "testX = shuffled[features][int(round(fraction*len(shuffled))):].values\n",
    "testY = shuffled[prediction][int(round(fraction*len(shuffled))):].values\n",
    "\n",
    "print(clf.score(testX, testY))"
   ]
  },
  {
   "cell_type": "code",
   "execution_count": 20,
   "metadata": {
    "collapsed": false
   },
   "outputs": [
    {
     "name": "stdout",
     "output_type": "stream",
     "text": [
      "Feature ranking:\n",
      "1.\tfeature 19\t(0.236202, Term in Months)\n",
      "2.\tfeature 14\t(0.167972, On Zayo Network Status)\n",
      "3.\tfeature 3\t(0.106356, Total BRR)\n",
      "4.\tfeature 17\t(0.098174, Product Group_opp)\n",
      "5.\tfeature 12\t(0.066883, Network Proximity)\n",
      "6.\tfeature 16\t(0.065358, Postal Code)\n",
      "7.\tfeature 2\t(0.055471, Estimated Build Cost)\n",
      "8.\tfeature 20\t(0.050330, Type)\n",
      "9.\tfeature 7\t(0.047667, City)\n",
      "10.\tfeature 4\t(0.025769, X36 MRC List)\n",
      "11.\tfeature 5\t(0.023935, X36 NPV List)\n",
      "12.\tfeature 6\t(0.018622, X36 NRR List)\n",
      "13.\tfeature 11\t(0.015084, Net Classification)\n",
      "14.\tfeature 10\t(0.009289, Market)\n",
      "15.\tfeature 15\t(0.006316, Opportunity Type)\n",
      "16.\tfeature 18\t(0.005845, State)\n",
      "17.\tfeature 13\t(0.000512, NumberOfEmployees)\n",
      "18.\tfeature 21\t(0.000215, Vertical)\n",
      "19.\tfeature 8\t(0.000000, DandB Total Employees)\n",
      "20.\tfeature 9\t(0.000000, Industry)\n",
      "21.\tfeature 1\t(0.000000, DandB Revenue)\n",
      "22.\tfeature 0\t(0.000000, AnnualRevenue)\n"
     ]
    },
    {
     "data": {
      "image/png": "[encoded data removed]",
      "text/plain": [
       "<matplotlib.figure.Figure at 0x108a6c9d0>"
      ]
     },
     "metadata": {},
     "output_type": "display_data"
    }
   ],
   "source": [
    "importances = clf.feature_importances_\n",
    "std = np.std([tree.feature_importances_ for tree in clf.estimators_],\n",
    "             axis=0)\n",
    "indices = np.argsort(importances)[::-1]\n",
    "\n",
    "# Print the feature ranking\n",
    "print(\"Feature ranking:\")\n",
    "\n",
    "for f in range(opp_filtered[features].shape[1]):\n",
    "    print(\"%d.\\tfeature %d\\t(%f, %s)\" % (f + 1, indices[f], importances[indices[f]], opp_filtered[features].columns[indices[f]].strip()))\n",
    "\n",
    "# Plot the feature importances of the forest\n",
    "plt.figure()\n",
    "plt.title(\"Feature importances\")\n",
    "plt.bar(range(opp_filtered[features].shape[1]), importances[indices],\n",
    "    color = '0.75', yerr=std[indices], align=\"center\")\n",
    "plt.xticks(range(opp_filtered[features].shape[1]), indices)\n",
    "plt.xlim([-1, opp_filtered[features].shape[1]])\n",
    "plt.show()"
   ]
  },
  {
   "cell_type": "markdown",
   "metadata": {},
   "source": [
    "## Predict on working account"
   ]
  },
  {
   "cell_type": "code",
   "execution_count": 22,
   "metadata": {
    "collapsed": false
   },
   "outputs": [
    {
     "data": {
      "text/plain": [
       "Index([u'Term in Months', u'Opportunity Type', u'Product Group_opp',\n",
       "       u'Industry', u'Vertical', u' Total BRR ', u' AnnualRevenue ',\n",
       "       u'NumberOfEmployees', u' DandB Revenue ', u'DandB Total Employees',\n",
       "       u' X36 MRC List ', u' X36 NRR List ', u' X36 NPV List ', u'Market',\n",
       "       u'City', u'State', u'Postal Code', u'On Zayo Network Status',\n",
       "       u'Net Classification', u'Type', u'Network Proximity',\n",
       "       u' Estimated Build Cost '],\n",
       "      dtype='object')"
      ]
     },
     "execution_count": 22,
     "metadata": {},
     "output_type": "execute_result"
    }
   ],
   "source": [
    "to_predict_filtered.columns"
   ]
  },
  {
   "cell_type": "code",
   "execution_count": 23,
   "metadata": {
    "collapsed": false
   },
   "outputs": [],
   "source": [
    "test_predictions = clf.predict_proba(to_predict_filtered[features].values)"
   ]
  },
  {
   "cell_type": "code",
   "execution_count": 24,
   "metadata": {
    "collapsed": false
   },
   "outputs": [
    {
     "data": {
      "text/plain": [
       "array([False,  True], dtype=bool)"
      ]
     },
     "execution_count": 24,
     "metadata": {},
     "output_type": "execute_result"
    }
   ],
   "source": [
    "clf.classes_"
   ]
  },
  {
   "cell_type": "code",
   "execution_count": 25,
   "metadata": {
    "collapsed": false
   },
   "outputs": [
    {
     "data": {
      "text/plain": [
       "877203"
      ]
     },
     "execution_count": 25,
     "metadata": {},
     "output_type": "execute_result"
    }
   ],
   "source": [
    "len(test_predictions)"
   ]
  },
  {
   "cell_type": "code",
   "execution_count": 26,
   "metadata": {
    "collapsed": false
   },
   "outputs": [
    {
     "data": {
      "text/html": [
       "<div>\n",
       "<table border=\"1\" class=\"dataframe\">\n",
       "  <thead>\n",
       "    <tr style=\"text-align: right;\">\n",
       "      <th></th>\n",
       "      <th>•ÈÀOpportunity ID</th>\n",
       "      <th>Account ID</th>\n",
       "      <th>StageName</th>\n",
       "      <th>IsClosed</th>\n",
       "      <th>IsWon</th>\n",
       "      <th>CreatedDate_opp</th>\n",
       "      <th>Term in Months</th>\n",
       "      <th>Service</th>\n",
       "      <th>Opportunity Type</th>\n",
       "      <th>Product Group_opp</th>\n",
       "      <th>...</th>\n",
       "      <th>State</th>\n",
       "      <th>Postal Code</th>\n",
       "      <th>Latitude_bldgs</th>\n",
       "      <th>Longitude_bldgs</th>\n",
       "      <th>On Zayo Network Status</th>\n",
       "      <th>Net Classification</th>\n",
       "      <th>Type</th>\n",
       "      <th>Network Proximity</th>\n",
       "      <th>Estimated Build Cost</th>\n",
       "      <th>IsCommittedProbability</th>\n",
       "    </tr>\n",
       "  </thead>\n",
       "  <tbody>\n",
       "    <tr>\n",
       "      <th>0</th>\n",
       "      <td>Opp-000004</td>\n",
       "      <td>Acct-000143</td>\n",
       "      <td>1 - Working</td>\n",
       "      <td>False</td>\n",
       "      <td>False</td>\n",
       "      <td>7/1/16</td>\n",
       "      <td>NaN</td>\n",
       "      <td>NaN</td>\n",
       "      <td>New Service</td>\n",
       "      <td>Ethernet</td>\n",
       "      <td>...</td>\n",
       "      <td>GA</td>\n",
       "      <td>30309</td>\n",
       "      <td>33.783427</td>\n",
       "      <td>-84.388557</td>\n",
       "      <td>On Zayo Network</td>\n",
       "      <td>On-Net</td>\n",
       "      <td>Neutral Data Center</td>\n",
       "      <td>185.76</td>\n",
       "      <td>$15,572.80</td>\n",
       "      <td>0.2</td>\n",
       "    </tr>\n",
       "    <tr>\n",
       "      <th>1</th>\n",
       "      <td>Opp-000004</td>\n",
       "      <td>Acct-000143</td>\n",
       "      <td>1 - Working</td>\n",
       "      <td>False</td>\n",
       "      <td>False</td>\n",
       "      <td>7/1/16</td>\n",
       "      <td>NaN</td>\n",
       "      <td>NaN</td>\n",
       "      <td>New Service</td>\n",
       "      <td>Ethernet</td>\n",
       "      <td>...</td>\n",
       "      <td>GA</td>\n",
       "      <td>30309</td>\n",
       "      <td>33.783427</td>\n",
       "      <td>-84.388557</td>\n",
       "      <td>On Zayo Network</td>\n",
       "      <td>On-Net</td>\n",
       "      <td>Neutral Data Center</td>\n",
       "      <td>185.76</td>\n",
       "      <td>$15,572.80</td>\n",
       "      <td>0.2</td>\n",
       "    </tr>\n",
       "    <tr>\n",
       "      <th>2</th>\n",
       "      <td>Opp-000004</td>\n",
       "      <td>Acct-000143</td>\n",
       "      <td>1 - Working</td>\n",
       "      <td>False</td>\n",
       "      <td>False</td>\n",
       "      <td>7/1/16</td>\n",
       "      <td>NaN</td>\n",
       "      <td>NaN</td>\n",
       "      <td>New Service</td>\n",
       "      <td>Ethernet</td>\n",
       "      <td>...</td>\n",
       "      <td>GA</td>\n",
       "      <td>30309</td>\n",
       "      <td>33.783427</td>\n",
       "      <td>-84.388557</td>\n",
       "      <td>On Zayo Network</td>\n",
       "      <td>On-Net</td>\n",
       "      <td>Neutral Data Center</td>\n",
       "      <td>185.76</td>\n",
       "      <td>$15,572.80</td>\n",
       "      <td>0.2</td>\n",
       "    </tr>\n",
       "    <tr>\n",
       "      <th>3</th>\n",
       "      <td>Opp-000004</td>\n",
       "      <td>Acct-000143</td>\n",
       "      <td>1 - Working</td>\n",
       "      <td>False</td>\n",
       "      <td>False</td>\n",
       "      <td>7/1/16</td>\n",
       "      <td>NaN</td>\n",
       "      <td>NaN</td>\n",
       "      <td>New Service</td>\n",
       "      <td>Ethernet</td>\n",
       "      <td>...</td>\n",
       "      <td>GA</td>\n",
       "      <td>30309</td>\n",
       "      <td>33.783427</td>\n",
       "      <td>-84.388557</td>\n",
       "      <td>On Zayo Network</td>\n",
       "      <td>On-Net</td>\n",
       "      <td>Neutral Data Center</td>\n",
       "      <td>185.76</td>\n",
       "      <td>$15,572.80</td>\n",
       "      <td>0.1</td>\n",
       "    </tr>\n",
       "    <tr>\n",
       "      <th>4</th>\n",
       "      <td>Opp-000004</td>\n",
       "      <td>Acct-000143</td>\n",
       "      <td>1 - Working</td>\n",
       "      <td>False</td>\n",
       "      <td>False</td>\n",
       "      <td>7/1/16</td>\n",
       "      <td>NaN</td>\n",
       "      <td>NaN</td>\n",
       "      <td>New Service</td>\n",
       "      <td>Ethernet</td>\n",
       "      <td>...</td>\n",
       "      <td>GA</td>\n",
       "      <td>30309</td>\n",
       "      <td>33.783427</td>\n",
       "      <td>-84.388557</td>\n",
       "      <td>On Zayo Network</td>\n",
       "      <td>On-Net</td>\n",
       "      <td>Neutral Data Center</td>\n",
       "      <td>185.76</td>\n",
       "      <td>$15,572.80</td>\n",
       "      <td>0.1</td>\n",
       "    </tr>\n",
       "  </tbody>\n",
       "</table>\n",
       "<p>5 rows × 54 columns</p>\n",
       "</div>"
      ],
      "text/plain": [
       "  •ÈÀOpportunity ID   Account ID    StageName IsClosed  IsWon CreatedDate_opp  \\\n",
       "0        Opp-000004  Acct-000143  1 - Working    False  False          7/1/16   \n",
       "1        Opp-000004  Acct-000143  1 - Working    False  False          7/1/16   \n",
       "2        Opp-000004  Acct-000143  1 - Working    False  False          7/1/16   \n",
       "3        Opp-000004  Acct-000143  1 - Working    False  False          7/1/16   \n",
       "4        Opp-000004  Acct-000143  1 - Working    False  False          7/1/16   \n",
       "\n",
       "   Term in Months Service Opportunity Type Product Group_opp  \\\n",
       "0             NaN     NaN      New Service          Ethernet   \n",
       "1             NaN     NaN      New Service          Ethernet   \n",
       "2             NaN     NaN      New Service          Ethernet   \n",
       "3             NaN     NaN      New Service          Ethernet   \n",
       "4             NaN     NaN      New Service          Ethernet   \n",
       "\n",
       "            ...           State Postal Code Latitude_bldgs Longitude_bldgs  \\\n",
       "0           ...              GA       30309      33.783427      -84.388557   \n",
       "1           ...              GA       30309      33.783427      -84.388557   \n",
       "2           ...              GA       30309      33.783427      -84.388557   \n",
       "3           ...              GA       30309      33.783427      -84.388557   \n",
       "4           ...              GA       30309      33.783427      -84.388557   \n",
       "\n",
       "  On Zayo Network Status  Net Classification                 Type  \\\n",
       "0        On Zayo Network              On-Net  Neutral Data Center   \n",
       "1        On Zayo Network              On-Net  Neutral Data Center   \n",
       "2        On Zayo Network              On-Net  Neutral Data Center   \n",
       "3        On Zayo Network              On-Net  Neutral Data Center   \n",
       "4        On Zayo Network              On-Net  Neutral Data Center   \n",
       "\n",
       "  Network Proximity   Estimated Build Cost   IsCommittedProbability  \n",
       "0            185.76             $15,572.80                      0.2  \n",
       "1            185.76             $15,572.80                      0.2  \n",
       "2            185.76             $15,572.80                      0.2  \n",
       "3            185.76             $15,572.80                      0.1  \n",
       "4            185.76             $15,572.80                      0.1  \n",
       "\n",
       "[5 rows x 54 columns]"
      ]
     },
     "execution_count": 26,
     "metadata": {},
     "output_type": "execute_result"
    }
   ],
   "source": [
    "to_predict['IsCommittedProbability'] = [pred[1] for pred in test_predictions]\n",
    "to_predict.head()"
   ]
  },
  {
   "cell_type": "code",
   "execution_count": 27,
   "metadata": {
    "collapsed": false
   },
   "outputs": [
    {
     "name": "stdout",
     "output_type": "stream",
     "text": [
      "(877203, 877203)\n"
     ]
    }
   ],
   "source": [
    "print(len(to_predict), len(to_predict_filtered))"
   ]
  },
  {
   "cell_type": "code",
   "execution_count": 28,
   "metadata": {
    "collapsed": true
   },
   "outputs": [],
   "source": [
    "to_predict.to_csv(\"opp_working_data.csv\", sep =\",\")"
   ]
  },
  {
   "cell_type": "code",
   "execution_count": 29,
   "metadata": {
    "collapsed": false
   },
   "outputs": [
    {
     "data": {
      "text/plain": [
       "Index([u'StageName', u'IsClosed', u'IsWon', u'CreatedDate_opp',\n",
       "       u'Term in Months', u'Service', u'Opportunity Type',\n",
       "       u'Product Group_opp', u'Building ID_opp', u'Market_opp',\n",
       "       u'Street Address_opp', u'City_opp', u'State_opp', u'Postal Code_opp',\n",
       "       u'Network Proximity_opp', u'On Zayo Network Status_opp',\n",
       "       u'Latitude_opp', u'Longitude_opp', u'Industry', u'Vertical',\n",
       "       u' Total BRR ', u' AnnualRevenue ', u'NumberOfEmployees',\n",
       "       u' DandB Revenue ', u'DandB Total Employees', u'CreatedDate_cpqs',\n",
       "       u'Product Group_cpqs', u' X36 MRC List ', u' X36 NRR List ',\n",
       "       u' X36 NPV List ', u'Building ID_cpqs', u'Market_cpqs',\n",
       "       u'Street Address_cpqs', u'City_cpqs', u'State_cpqs',\n",
       "       u'Postal Code_cpqs', u'Network Proximity_cpqs',\n",
       "       u'On Zayo Network Status_cpqs', u'Building ID', u'Market',\n",
       "       u'Street Address', u'City', u'State', u'Postal Code', u'Latitude_bldgs',\n",
       "       u'Longitude_bldgs', u'On Zayo Network Status', u'Net Classification',\n",
       "       u'Type', u'Network Proximity', u' Estimated Build Cost '],\n",
       "      dtype='object')"
      ]
     },
     "execution_count": 29,
     "metadata": {},
     "output_type": "execute_result"
    }
   ],
   "source": [
    "to_predict_further_filtered = to_predict\n",
    "to_predict_further_filtered.columns[2:(len(to_predict_further_filtered.columns)-1)]"
   ]
  },
  {
   "cell_type": "code",
   "execution_count": 30,
   "metadata": {
    "collapsed": false
   },
   "outputs": [
    {
     "name": "stdout",
     "output_type": "stream",
     "text": [
      "Index([u'•ÈÀOpportunity ID', u'Account ID', u'IsCommittedProbability'], dtype='object')\n"
     ]
    }
   ],
   "source": [
    "to_predict_further_filtered = to_predict_further_filtered.drop(to_predict_further_filtered.columns[2:(len(to_predict_further_filtered.columns)-1)], axis=1)\n",
    "print(to_predict_further_filtered.columns)\n",
    "to_predict_further_filtered.to_csv(\"random_forest/opp_working_data_filtered.csv\", sep =\",\")"
   ]
  },
  {
   "cell_type": "code",
   "execution_count": 47,
   "metadata": {
    "collapsed": false
   },
   "outputs": [],
   "source": [
    "from sklearn import tree\n",
    "\n",
    "from IPython.display import Image  \n",
    "import pydotplus\n",
    "\n",
    "dot_data = tree.export_graphviz(clf.estimators_[0], out_file='tree.dot', impurity=False,\n",
    "                         filled=True, rounded=True, max_depth=3, #class_names=['Is Not Committed', 'Is Committed'],  \n",
    "                         special_characters=True, feature_names=features)  \n",
    "#graph = pydotplus.graph_from_dot_data(dot_data)  \n",
    "#Image(graph.create_png())\n"
   ]
  },
  {
   "cell_type": "code",
   "execution_count": null,
   "metadata": {
    "collapsed": true
   },
   "outputs": [],
   "source": []
  }
 ],
 "metadata": {
  "kernelspec": {
   "display_name": "Python 2",
   "language": "python",
   "name": "python2"
  },
  "language_info": {
   "codemirror_mode": {
    "name": "ipython",
    "version": 2
   },
   "file_extension": ".py",
   "mimetype": "text/x-python",
   "name": "python",
   "nbconvert_exporter": "python",
   "pygments_lexer": "ipython2",
   "version": "2.7.12"
  }
 },
 "nbformat": 4,
 "nbformat_minor": 1
}
